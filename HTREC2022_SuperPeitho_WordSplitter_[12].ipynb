{
  "cells": [
    {
      "cell_type": "markdown",
      "metadata": {
        "id": "view-in-github",
        "colab_type": "text"
      },
      "source": [
        "<a href=\"https://colab.research.google.com/github/Bonum/HTREC2022/blob/main/HTREC2022_SuperPeitho_WordSplitter_%5B12%5D.ipynb\" target=\"_parent\"><img src=\"https://colab.research.google.com/assets/colab-badge.svg\" alt=\"Open In Colab\"/></a>"
      ]
    },
    {
      "cell_type": "code",
      "execution_count": null,
      "metadata": {
        "id": "Db01LUfj2FJk"
      },
      "outputs": [],
      "source": [
        "%%capture\n",
        "!pip install -U transformers\n",
        "!pip install -U flair"
      ]
    },
    {
      "cell_type": "code",
      "execution_count": null,
      "metadata": {
        "colab": {
          "base_uri": "https://localhost:8080/"
        },
        "id": "WEyczHbh2Jel",
        "outputId": "a82014b6-b311-43d9-d350-c88e0ab905be"
      },
      "outputs": [
        {
          "output_type": "stream",
          "name": "stdout",
          "text": [
            "Cloning into 'Ancient-Greek-BERT'...\n",
            "remote: Enumerating objects: 50, done.\u001b[K\n",
            "remote: Counting objects: 100% (50/50), done.\u001b[K\n",
            "remote: Compressing objects: 100% (48/48), done.\u001b[K\n",
            "remote: Total 50 (delta 14), reused 18 (delta 1), pack-reused 0\u001b[K\n",
            "Unpacking objects: 100% (50/50), done.\n",
            "/content/Ancient-Greek-BERT\n",
            "Git LFS: (1 of 1 files) 447.99 MB / 447.99 MB\n"
          ]
        }
      ],
      "source": [
        "!git clone https://github.com/pranaydeeps/Ancient-Greek-BERT.git\n",
        "%cd Ancient-Greek-BERT\n",
        "# In case git lfs starts failing, because GitHub repository have bandwidth limit\n",
        "# You can manually download from google drive link hosted by me as an alternative, unzip and save as final-model.pt\n",
        "!git lfs pull --include \"final-model.pt\""
      ]
    },
    {
      "cell_type": "code",
      "execution_count": null,
      "metadata": {
        "colab": {
          "base_uri": "https://localhost:8080/"
        },
        "id": "bilZWpU3MsGV",
        "outputId": "24eb87e9-3176-4a58-e6ff-47333e5afc5f"
      },
      "outputs": [
        {
          "output_type": "stream",
          "name": "stdout",
          "text": [
            "Cloning into '../LM/SuperPeitho-v1'...\n",
            "remote: Enumerating objects: 37, done.\u001b[K\n",
            "remote: Counting objects: 100% (37/37), done.\u001b[K\n",
            "remote: Compressing objects: 100% (36/36), done.\u001b[K\n",
            "remote: Total 37 (delta 15), reused 0 (delta 0), pack-reused 0\n",
            "Unpacking objects: 100% (37/37), done.\n"
          ]
        }
      ],
      "source": [
        "!mkdir ../LM/\n",
        "!git clone https://huggingface.co/pranaydeeps/Ancient-Greek-BERT ../LM/SuperPeitho-v1"
      ]
    },
    {
      "cell_type": "code",
      "execution_count": null,
      "metadata": {
        "colab": {
          "base_uri": "https://localhost:8080/"
        },
        "id": "PLdYlap8D5RP",
        "outputId": "1397bb92-ea89-45d7-950a-f1eae2bd9cb4"
      },
      "outputs": [
        {
          "output_type": "stream",
          "name": "stdout",
          "text": [
            "2022-06-26 17:13:34,229 loading file SuperPeitho-FLAIR-v2/final-model.pt\n",
            "2022-06-26 17:13:40,673 SequenceTagger predicts: Dictionary with 1030 tags: <unk>, O, a-p---na-, v2spma---, u--------, d--------, v-papamn-, r--------, l-s---ma-, n-s---ma-, v3siie---, l-s---nn-, l-s---fg-, n-s---fg-, l-s---mg-, n-s---mg-, v3ppia---, i--------, n-s---mn-, v3saia---, p-p---fd-, v-sppamn-, a-s---mn-, n-p---mg-, c--------, v3saoa---, p-s---mn-, l-s---mn-, v3siia---, v-sapamg-, b--------, p-s---cg-, p-s---fd-, l-p---mg-, a-p---mg-, a-s---ma-, v-sppamg-, v3spia---, a-p---ng-, n-p---ng-, _, v3piie---, l-p---md-, a-p---md-, v-pppamn-, p-p---ma-, l-s---fa-, n-s---fa-, n-p---na-, v3paia---\n"
          ]
        }
      ],
      "source": [
        "from flair.models import SequenceTagger\n",
        "tagger = SequenceTagger.load(\"SuperPeitho-FLAIR-v2/final-model.pt\")"
      ]
    },
    {
      "cell_type": "code",
      "execution_count": null,
      "metadata": {
        "id": "hPLIf5Q93I8A"
      },
      "outputs": [],
      "source": [
        "from flair.data import Sentence"
      ]
    },
    {
      "cell_type": "code",
      "execution_count": null,
      "metadata": {
        "id": "JZ6Q0crHmmeN"
      },
      "outputs": [],
      "source": [
        ""
      ]
    },
    {
      "cell_type": "code",
      "execution_count": null,
      "metadata": {
        "id": "Se9UHfNe4uFy"
      },
      "outputs": [],
      "source": [
        "%%capture\n",
        "!pip install aicrowd-cli\n",
        "%load_ext aicrowd.magic"
      ]
    },
    {
      "cell_type": "code",
      "execution_count": null,
      "metadata": {
        "colab": {
          "base_uri": "https://localhost:8080/"
        },
        "id": "yBgORWAt5WvK",
        "outputId": "daeca895-0cee-43d1-dca4-ffc2ea89d14f"
      },
      "outputs": [
        {
          "output_type": "stream",
          "name": "stdout",
          "text": [
            "Please login here: \u001b[34m\u001b[1m\u001b[4mhttps://api.aicrowd.com/auth/Kfu4xBmueJfmFLgoYICqzBG7NPk7JXBh5fMRmPtaUhE\u001b[0m\n",
            "\u001b[32mAPI Key valid\u001b[0m\n",
            "\u001b[32mGitlab access token valid\u001b[0m\n",
            "\u001b[32mSaved details successfully!\u001b[0m\n"
          ]
        }
      ],
      "source": [
        "%aicrowd login\n"
      ]
    },
    {
      "cell_type": "code",
      "execution_count": null,
      "metadata": {
        "colab": {
          "base_uri": "https://localhost:8080/",
          "height": 81,
          "referenced_widgets": [
            "a522022cd4c54cedb846f66bac119e3e",
            "59d2e41d3ccc4816866713974f7b16c8",
            "ae6b0c9249c54a59aca63356c86dd123",
            "cbf7215d3a4040188595cb04a582af56",
            "f2108c1d5cad4b4c83f4952891af7552",
            "8ae1d28ae6c648958c34c7d68f84bde7",
            "6b03d44817dc4683a9a537f1e52a7040",
            "041655729ddf473a906bf1698d135898",
            "282d1d0ead10474996054d68cc39939d",
            "ce45aa1a7bcf4912a8b8f5fc4d874589",
            "05cdbd7321164727a6bcb7e1033dedfe",
            "30104b21deb14d28b1df51accd871564",
            "f44a440ea24e46578480639cdca39da5",
            "6b8d5ffc4f7f4b9a8256f359f2006f11",
            "09c8fe5f24f24b37961599ad608f921a",
            "5b70cdce49f5473ba82552471c3c8564",
            "de0e5d65f1814d53932a641143136ced",
            "e5fc2acc216e4b92bd9850e0daa39011",
            "ce658f6bc80744da93152b922029c4f5",
            "78faf70ced744ddfa3fbd801f1215d63",
            "07d888f751d94d5cac730a418ba975c9",
            "9a43109729f94563805a5feebbdc20a4"
          ]
        },
        "id": "ojnrmwZH4yBF",
        "outputId": "3f2c8138-a52f-444e-8997-bedda51baab4"
      },
      "outputs": [
        {
          "output_type": "display_data",
          "data": {
            "text/plain": [
              "test.csv:   0%|          | 0.00/45.5k [00:00<?, ?B/s]"
            ],
            "application/vnd.jupyter.widget-view+json": {
              "version_major": 2,
              "version_minor": 0,
              "model_id": "a522022cd4c54cedb846f66bac119e3e"
            }
          },
          "metadata": {}
        },
        {
          "output_type": "display_data",
          "data": {
            "text/plain": [
              "train.csv:   0%|          | 0.00/395k [00:00<?, ?B/s]"
            ],
            "application/vnd.jupyter.widget-view+json": {
              "version_major": 2,
              "version_minor": 0,
              "model_id": "30104b21deb14d28b1df51accd871564"
            }
          },
          "metadata": {}
        }
      ],
      "source": [
        "!rm -rf data\n",
        "!mkdir data\n",
        "%aicrowd ds dl -c htrec-2022 -o data"
      ]
    },
    {
      "cell_type": "code",
      "execution_count": null,
      "metadata": {
        "id": "qifEaCbX5upC"
      },
      "outputs": [],
      "source": [
        "%%capture\n",
        "!pip install pywer\n",
        "import pywer\n",
        "import pandas as pd\n",
        "import numpy as np\n",
        "import os"
      ]
    },
    {
      "cell_type": "code",
      "execution_count": null,
      "metadata": {
        "id": "YMgF9clIdETE"
      },
      "outputs": [],
      "source": [
        "%%capture\n",
        "from transformers import AutoTokenizer, AutoModel\n",
        "tokenizer = AutoTokenizer.from_pretrained(\"pranaydeeps/Ancient-Greek-BERT\")\n",
        "model = AutoModel.from_pretrained(\"pranaydeeps/Ancient-Greek-BERT\")"
      ]
    },
    {
      "cell_type": "code",
      "execution_count": null,
      "metadata": {
        "id": "QzbgAJfe6LUP",
        "colab": {
          "base_uri": "https://localhost:8080/"
        },
        "outputId": "1884f24a-2035-4d0b-d05f-238e5ec5dfbf"
      },
      "outputs": [
        {
          "output_type": "stream",
          "name": "stdout",
          "text": [
            "1875 train and 338 instances\n"
          ]
        }
      ],
      "source": [
        "train_df = pd.read_csv(\"data/train.csv\")\n",
        "test_df = pd.read_csv(\"data/test.csv\")\n",
        "print(f\"{train_df.shape[0]} train and {test_df.shape[0]} instances\")\n",
        "#train_df"
      ]
    },
    {
      "cell_type": "code",
      "execution_count": null,
      "metadata": {
        "id": "pCyq612s_fB7"
      },
      "outputs": [],
      "source": [
        "#test_df"
      ]
    },
    {
      "cell_type": "markdown",
      "metadata": {
        "id": "UL-bb3qRijU_"
      },
      "source": [
        "# Word Splitter"
      ]
    },
    {
      "cell_type": "code",
      "execution_count": null,
      "metadata": {
        "id": "jg4Up3C-imeF"
      },
      "outputs": [],
      "source": [
        "#global cfg\n",
        "cfg = {\n",
        "    'min_split_len': 18,\n",
        "    'st_off':     4,\n",
        "    'end_off':    4,\n",
        "    'min_score':  0.65, #0.5,\n",
        "    'min_fsplit':  0.4,\n",
        "    'sum_score':  1.1\n",
        "  }\n",
        "  \n",
        "fcfg = {\n",
        "    'min_split_len': 5,\n",
        "    'st_off':     4, #2,\n",
        "    'alt_off':    4, #2, \n",
        "    'end_off':    2,\n",
        "    'min_split':  0.4,\n",
        "    'min_max_split': 0.75, #  0.65,\n",
        "    'sum_score':  1.0\n",
        "  }\n",
        "#ST_OFF=5 ; END_OFF=4 # -1.562\t-9.980  cer: 99.2936048696175\n",
        "# ST_OFF=6 ; END_OFF=6 #  -0.402\t-2.265  cer: 0.6462763958818667\n",
        "# ST_OFF=7 ; END_OFF=7 #  -0.164\t-0.598  cer: 0.3456827233786729\n",
        "# MIN_SCORE=0.4\n",
        "# SUM_SCORE=1.1\n",
        "\n",
        "ss=train_df.SYSTEM_TRANSCRIPTION[0]\n",
        "hum=train_df.HUMAN_TRANSCRIPTION\n",
        "wd=ss[0] #'ἐγγενομεναπαδημησμεννωτες ἀλλατῆε κλησει'\n",
        "sswords=[w for w in ss.split() ]\n",
        "\n",
        "def eval2words(w0, w1):\n",
        "  sent=Sentence([w0, w1])\n",
        "  tagger.predict(sent)\n",
        "  #print(sent)\n",
        "    \n",
        "  t0=sent[0]\n",
        "  t1=sent[1]\n",
        "  s0,s1=t0.score, t1.score\n",
        "  #print(f'scores: s0: {s0:.3f}, s1: {s1:.3f}, sum: {(s0+s1):.3f}')\n",
        "  return s0, s1"
      ]
    },
    {
      "cell_type": "code",
      "execution_count": null,
      "metadata": {
        "id": "pNDUw0COPyV6",
        "colab": {
          "base_uri": "https://localhost:8080/"
        },
        "outputId": "bc5085b4-f079-458a-e76c-4b6eaaf23a21"
      },
      "outputs": [
        {
          "output_type": "execute_result",
          "data": {
            "text/plain": [
              "(5.529698610305786, 'vndvbln')"
            ]
          },
          "metadata": {},
          "execution_count": 124
        }
      ],
      "source": [
        "def morph_anal(sents):\n",
        "  #v_n=['v', 'n']\n",
        "\n",
        "  words=list(sents.split(\" \"))\n",
        "  sumsc=0\n",
        "  sent=Sentence(sents)\n",
        "  tagger.predict(sent)\n",
        "  #print(sent)\n",
        "  ma=''\n",
        "  for m in range(len(words)):\n",
        "    #print(f'{m}, {sent[m].text} {sent[m].tag[0]} , {sent[m].score:0.3f}')\n",
        "    sumsc+=sent[m].score\n",
        "    ma+=sent[m].tag[0]\n",
        "  return sumsc, ma\n",
        "\n",
        "def sent2words(sent):\n",
        "  words=list(sent.split(\" \"))\n",
        "  print (words)\n",
        "  w0=words[0]\n",
        "  w1=words[1]\n",
        "  return w0, w1\n",
        "\n",
        "# for elem in sswords:\n",
        "#   w0, w1 = sent2words(elem)\n",
        "#   s0, s1 = eval2words(w0, w1)\n",
        "sh='ἐγγινομένα πάθη μὴ σβεννύντες ἀλλὰ τῆ εκλύσει'\n",
        "sc,ma=morph_anal(sh)\n",
        "sc,ma"
      ]
    },
    {
      "cell_type": "code",
      "execution_count": null,
      "metadata": {
        "id": "xqJ-ZGGku7Z7"
      },
      "outputs": [],
      "source": [
        "# for i in range(10):\n",
        "#   print(hum[i])\n",
        "#   sum_score(hum[i])"
      ]
    },
    {
      "cell_type": "markdown",
      "metadata": {
        "id": "AY7oBR6Rwkly"
      },
      "source": [
        "* l - article {του, της, τη, η}\n",
        "* v - verb\n",
        "* n -  noun\n",
        "* b - preposifion {και, αλλά, \n",
        "* d - {καί,μή\n",
        "* a - adjective {πολους, πονηρου }\n",
        "* r  -  {προ, κατα, από, δία}\n",
        "* c - { ώστε\n"
      ]
    },
    {
      "cell_type": "code",
      "execution_count": null,
      "metadata": {
        "id": "FiwVUPwxfJAN",
        "colab": {
          "base_uri": "https://localhost:8080/",
          "height": 72
        },
        "outputId": "d9458bde-1bc0-4b1c-d3cb-4e8c100a15d5"
      },
      "outputs": [
        {
          "output_type": "stream",
          "name": "stdout",
          "text": [
            "Sentence: \"ἐγγενομεναπαδημησμεννωτες ἀλλατῆε κλησει\" → [\"ἐγγενομεναπαδημησμεννωτες\"/v-pppamn-, \"ἀλλατῆε\"/b--------, \"κλησει\"/n-s---fd-]\n"
          ]
        },
        {
          "output_type": "execute_result",
          "data": {
            "text/plain": [
              "'n'"
            ],
            "application/vnd.google.colaboratory.intrinsic+json": {
              "type": "string"
            }
          },
          "metadata": {},
          "execution_count": 17
        }
      ],
      "source": [
        "ss\n",
        "sent=Sentence(ss)\n",
        "tagger.predict(sent)\n",
        "print(sent)\n",
        "t=sent[2]\n",
        "t.start_pos\n",
        "t.tag[0]"
      ]
    },
    {
      "cell_type": "code",
      "execution_count": null,
      "metadata": {
        "id": "WvAcvzOqjGZv"
      },
      "outputs": [],
      "source": [
        "def wsplit(word):\n",
        "  MIN_WORD_LEN = cfg['st_off'] + cfg['end_off'] + 1\n",
        "  if len(word) < MIN_WORD_LEN: return word\n",
        "  maxsc=0; ms0=0; ms1=0; w1='*'; w2='*'\n",
        "  mt0, mt1=None,None \n",
        "  #e_off = len(word)-cfg['end_off']\n",
        "  for i in range(cfg['st_off'], len(word)-cfg['end_off']):\n",
        "    w0=word[:i]\n",
        "    w1=word[i:]\n",
        "    #print(w1,  w2)3\n",
        "    sent=Sentence([w0,w1])\n",
        "    tagger.predict(sent)\n",
        "    #print(sent)\n",
        "    \n",
        "    t0=sent[0]\n",
        "    t1=sent[1]\n",
        "    s0,s1=t0.score, t1.score\n",
        "    # s0,s1=eval2words(w0, w1)\n",
        "    #print(f'scores: s0: {ms0:.3f}, s1: {ms1:.3f}')\n",
        "    if min(s0, s1) > cfg['min_score'] and (s0 + s1 > cfg['sum_score']):\n",
        "        if s0 + s1 > maxsc:\n",
        "            ms0=s0; ms1=s1\n",
        "            mt0=t0; mt1=t1\n",
        "            maxsc = s0 + s1\n",
        "            mi = i\n",
        "            #print(f'max_i {mi}, Scores: {s0:.3f}, {s1:.3f} Maxscore: {maxsc:.3f}')\n",
        "            #print(f'Temp Found: {mt0}, {mt1}, {ms0:.3f}, {ms1:.3f}')\n",
        "    \n",
        "    #print(f'Found for {i} : {mt0}, {mt1}, {ms0:.3f}, {ms1:.3f}')\n",
        "    #print(f'Iteration: {i}')\n",
        "\n",
        "  #print(f'Final : {mt0}, {mt1}, {ms0:.3f}, {ms1:.3f}, max_score {maxsc:.3f}')\n",
        "  if ms0==0 : return word\n",
        "  else: return word[:mi]+' '+word[mi:]\n"
      ]
    },
    {
      "cell_type": "markdown",
      "metadata": {
        "id": "2fgrU6fw6uAo"
      },
      "source": [
        ""
      ]
    },
    {
      "cell_type": "code",
      "execution_count": null,
      "metadata": {
        "id": "749H1xG763X6"
      },
      "outputs": [],
      "source": [
        "# sswords[1]\n",
        "# split_pass2, _ = altern_splits(sswords[1], -1)\n",
        "# split_pass2"
      ]
    },
    {
      "cell_type": "code",
      "execution_count": null,
      "metadata": {
        "id": "hmlXmDALlPCl"
      },
      "outputs": [],
      "source": [
        "ss=train_df.SYSTEM_TRANSCRIPTION[0]\n",
        "# #hum=train_df.HUMAN_TRANSCRIPTION[0]\n",
        "# ss #'ἐγγενομεναπαδημησμεννωτες ἀλλατῆε κλησει'\n",
        "sswords=[w for w in ss.split() ]\n",
        "wd=sswords[0]\n",
        "# split_pass1, _ = altern_splits(wd, -1)\n",
        "# split_pass1"
      ]
    },
    {
      "cell_type": "markdown",
      "metadata": {
        "id": "ETeO_aqVwucD"
      },
      "source": [
        "# From PyCharm"
      ]
    },
    {
      "cell_type": "code",
      "execution_count": null,
      "metadata": {
        "id": "pZdn2DIz0dUD"
      },
      "outputs": [],
      "source": [
        "# wwd='ἐγγενομεναπαδημησμεννωτες'\n",
        "# #wwd='abcdefghijklmn'\n",
        "# split_pass1, _ = altern_splits(wwd, -1)\n",
        "# split_pass1\n"
      ]
    },
    {
      "cell_type": "code",
      "execution_count": null,
      "metadata": {
        "id": "xf_lEz9bHnw7"
      },
      "outputs": [],
      "source": [
        "fcfg111 = {\n",
        "    'min_split_len': 5,\n",
        "    'st_off': 2, #2,\n",
        "    'alt_off': 2, #2,\n",
        "    'end_off': 2, #2,\n",
        "    'min_split': 0.4,\n",
        "    'min_max_split': 0.75, #0.65,\n",
        "    'sum_score': 1.0\n",
        "}\n",
        "\n",
        "def forced_split(word, s_off):\n",
        "  MIN_WORD_LEN = fcfg['st_off'] + fcfg['end_off'] + 1\n",
        "  #MIN_WORD_LEN = fcfg['st_off'] # + fcfg['end_off'] + 1\n",
        "\n",
        "  if len(word) < MIN_WORD_LEN: \n",
        "        print('Min split! ',word)\n",
        "        return word, True\n",
        "\n",
        "  e_off = len(word)-fcfg['end_off']+1\n",
        "  bSplitted = False\n",
        "  for i in range(s_off, e_off):\n",
        "    w0=word[:i]\n",
        "    w1=word[i:]\n",
        "    s0,s1=eval2words(w0, w1)\n",
        "    #print(w0,w1)\n",
        "    #print(f'{i}: Scores: {s0:.3f}, {s1:.3f}')\n",
        "    #if min(s0, s1) > fcfg['min_split'] :\n",
        "    if max(s0, s1) > fcfg['min_max_split'] :\n",
        "\n",
        "      bSplitted = True\n",
        "      return word[:i]+' '+word[i:], False\n",
        "\n",
        "  if not bSplitted :\n",
        "    return word, True\n",
        "\n",
        "def altern_splits(word, iSortOrder):\n",
        "  # iSortOrder: 1 : increasing, -1 : decreasing\n",
        "  split_variants = []\n",
        "  unique_list = []\n",
        "  #print(len(word))\n",
        "  for s_off in range(fcfg['st_off'], len(word)-fcfg['end_off'], fcfg['alt_off']):\n",
        "    split_variant, bOneWord = forced_split(word, s_off)\n",
        "    #print( 'offs,forced word, b: ', s_off, split_variant,bOneWord)\n",
        "    if bOneWord: continue # return  split_variant, True\n",
        "    split_variants.append(split_variant)\n",
        "    list_set = set(split_variants)\n",
        "    # convert the set to the list\n",
        "    unique_list = (list(list_set))\n",
        "    unique_list=sorted(unique_list, key=lambda x: (iSortOrder * len(x), x))\n",
        "    unique_list\n",
        "  return unique_list, False\n",
        "\n",
        "#sswords=[w for w in ss.split() ]\n",
        "#wd=wwd\n",
        "#global split_pass1\n",
        "#split_pass1, _ = altern_splits(wd, -1)\n",
        "#print(split_pass1)\n",
        "\n",
        "# Expand the list with the new one\n",
        "#global split_full\n",
        "#split_full = split_pass1.copy()"
      ]
    },
    {
      "cell_type": "code",
      "execution_count": null,
      "metadata": {
        "id": "cXEnZnLrJv-j"
      },
      "outputs": [],
      "source": [
        "#for s in split_full: print(s)\n",
        "#print(split_full)    \n",
        "def pass2(split_full, i, j):\n",
        "    sswords = [w for w in split_pass1[i].split()]\n",
        "    #print('-------> wd1 ', sswords[1])\n",
        "    split_pass2, oneWord = altern_splits(sswords[1], 1)\n",
        "    split_pass2 = list(reversed(split_pass2))\n",
        "    print('=====> i,j,pas2',i,j) #,split_pass2)\n",
        "    if split_pass2==[] or oneWord: return split_full, j\n",
        "    row = split_pass1[i]\n",
        "    w1, w2 = sent2words(row)\n",
        "    for k in range(len(split_pass2)):\n",
        "      pw1, pw2=sent2words(split_pass2[k])\n",
        "      #print(row, w1, w2, pw1, pw2)\n",
        "      new_row =' '.join([w1, pw1, pw2])\n",
        "      # expanding\n",
        "      if k == 0:\n",
        "        split_full[i+j] = new_row\n",
        "      else:\n",
        "        split_full = split_full[0:i+j] + [new_row] + split_full[i+j:]\n",
        "\n",
        "    j+=k\n",
        "    return split_full, j\n",
        "\n",
        "\n",
        "def big_word_splitt(wd):\n",
        "\n",
        "  global split_pass1, split_full\n",
        "  split_pass1, oneWord = altern_splits(wd, -1)\n",
        "  if oneWord: return wd\n",
        "  split_full = split_pass1.copy()\n",
        "\n",
        "  j=0\n",
        "  split_full_ini= split_full.copy()\n",
        "\n",
        "  for i in range(len(split_full_ini)):\n",
        "    split_full, j = pass2(split_full, i, j)\n",
        "\n",
        "  max_scm=0; max_indm=0\n",
        "  max_sc=0; max_ind=0\n",
        "  for m,sents in enumerate(split_full): \n",
        "    sc,ma=morph_anal(sents)\n",
        "    #print(sc,ma)\n",
        "    if sc > max_scm and 'n' in ma : #and 'v' in ma: \n",
        "      max_scm=sc; max_indm=m\n",
        "    elif sc > max_sc: \n",
        "      max_sc=sc; max_ind=m\n",
        "  if max_scm==0: max_scm=max_sc; max_indm=max_ind  \n",
        "  print('==========>', max_scm, max_indm)\n",
        "  return split_full[max_indm]\n",
        "    \n",
        "#wwd=big_word_splitt(wwd)\n",
        "#wwd\n",
        "#print(split_full)"
      ]
    },
    {
      "cell_type": "code",
      "execution_count": null,
      "metadata": {
        "id": "X2cXJ49rdbz8",
        "colab": {
          "base_uri": "https://localhost:8080/",
          "height": 261
        },
        "outputId": "2a0072b6-26ad-4781-af6d-ae0a96c92e7c"
      },
      "outputs": [
        {
          "output_type": "stream",
          "name": "stdout",
          "text": [
            "bigw j,len 5 19\n",
            "τοκαθεμακαιτοςκοςμο\n",
            "ιαι τοῖ εμητις κοις καὶ τοκαθεμακαιτοςκοςμο\n",
            "=====> i,j,pas2 0 0\n",
            "['τοκα', 'θεμακαιτοςκοςμο']\n",
            "['θεμα', 'καιτοςκοςμο']\n",
            "=====> i,j,pas2 1 0\n",
            "['τοκαθεμακα', 'ιτοςκοςμο']\n",
            "['ιτοςκο', 'ςμο']\n",
            "=====> i,j,pas2 2 0\n",
            "==========> 1.5805107355117798 0\n",
            "43 -1 43\n",
            "ιαι τοῖ εμητις κοις καὶ *τοκα θεμα καιτοςκοςμο*\n"
          ]
        },
        {
          "output_type": "execute_result",
          "data": {
            "text/plain": [
              "'ιαι τοῖ εμητις κοις καὶ τοκα θεμα καιτοςκοςμο'"
            ],
            "application/vnd.google.colaboratory.intrinsic+json": {
              "type": "string"
            }
          },
          "metadata": {},
          "execution_count": 137
        }
      ],
      "source": [
        "def big_word_splitter(sent):\n",
        "\n",
        "  words=[ w for w in sent.split() ]\n",
        "  bigW = False\n",
        "  for j,w in enumerate(words):\n",
        "      if len(w) >= cfg['min_split_len'] : \n",
        "        print('bigw j,len',j,len(w))\n",
        "        bigW = True\n",
        "        bigWord = w\n",
        "        print(w)\n",
        "        break\n",
        "  if not bigW: return sent\n",
        "\n",
        "  print(sent)\n",
        "  ext_list=[wsplit(w) for w in words]\n",
        "  ext_list=' '.join(ext_list)\n",
        "  words=list(ext_list.split(\" \"))\n",
        "\n",
        "  #wd=wsplit(bigWord)\n",
        "  wd=big_word_splitt(bigWord)\n",
        "\n",
        "  #print(\"Substring found at index:\", j)\n",
        "\n",
        "  m=sent.find(bigWord)\n",
        "  if m==0: st1=''\n",
        "  else : st1=sent[0:m]\n",
        "  st2=sent[m:]\n",
        "  #print('Partial: st1 ', st1)\n",
        "  #print('Partial: st2 ', '*'+st2+'*')\n",
        "  \n",
        "  k1=st2.find(' ')\n",
        "  k=m+len(bigWord)\n",
        "  print(k, k1, len(sent))\n",
        "  if k < len(sent) : st3=sent[k:]\n",
        "  else : st3 = ''\n",
        "\n",
        "  print(st1+'*'+wd+'*'+st3)\n",
        "  return st1 +wd +st3\n",
        "\n",
        "i=213 #18\n",
        "#for i in range(1,30):\n",
        "#  print(i)\n",
        "big_word_splitter(train_df.SYSTEM_TRANSCRIPTION[i])"
      ]
    },
    {
      "cell_type": "markdown",
      "metadata": {
        "id": "sCzKSoK6VnPf"
      },
      "source": [
        "# One split only"
      ]
    },
    {
      "cell_type": "code",
      "execution_count": null,
      "metadata": {
        "id": "5SM_zh1bkaLD"
      },
      "outputs": [],
      "source": [
        "# ext_list=[wsplit(w) for w in words]\n",
        "# print('>>> no join extended list >>>>>>>>: ', ext_list)\n",
        "# ext_list=' '.join(ext_list)\n",
        "# print('>>>> join extended string >>>>>>>>: ', ext_list)"
      ]
    },
    {
      "cell_type": "code",
      "execution_count": null,
      "metadata": {
        "id": "PQVqVpEqngcY"
      },
      "outputs": [],
      "source": [
        "def split_iter(spl_sent):\n",
        "  MIN_WORD_LEN = cfg['st_off'] + cfg['end_off'] + 1\n",
        "  #print(MIN_WORD_LEN)\n",
        "  sent = spl_sent\n",
        "  words=[ w for w in sent.split() ]\n",
        "  \n",
        "  #print(f'INITIAL: Number of  words : {len(words)}')\n",
        "  while True:\n",
        "    bigW = False\n",
        "    for w in words:\n",
        "      if len(w) >= MIN_WORD_LEN : bigW = True\n",
        "    if not bigW: break\n",
        "\n",
        "    num_words=len(words)\n",
        "    ext_list=[wsplit(w) for w in words]\n",
        "    ext_list=' '.join(ext_list)\n",
        "    words=list(ext_list.split(\" \"))\n",
        "    print (\"Intermediate: \", words)\n",
        "    print(f'Num new words : {len(words)}; Num old list words: {num_words} ')\n",
        "    if len(words) <= num_words: break # No more extensions found\n",
        "\n",
        "  return ' '.join(words)\n",
        "\n",
        "# ws_str = split_iter(train_df.SYSTEM_TRANSCRIPTION[0])\n",
        "# ws_str "
      ]
    },
    {
      "cell_type": "markdown",
      "metadata": {
        "id": "H6rWvGfoi1tU"
      },
      "source": [
        ""
      ]
    },
    {
      "cell_type": "code",
      "execution_count": null,
      "metadata": {
        "id": "0pyjgABku9MI"
      },
      "outputs": [],
      "source": [
        "def prn_res(i, ws_str, df):\n",
        "  print('SY ', df.SYSTEM_TRANSCRIPTION[i])\n",
        "  print('WS ', ws_str)\n",
        "  if df is train_df: print('HU ', df.HUMAN_TRANSCRIPTION[i])\n",
        "  "
      ]
    },
    {
      "cell_type": "code",
      "execution_count": null,
      "metadata": {
        "id": "OiSXvxPMsIH9",
        "colab": {
          "base_uri": "https://localhost:8080/"
        },
        "outputId": "b676d749-bb7d-4433-f74b-236fb7cd4e32"
      },
      "outputs": [
        {
          "output_type": "stream",
          "name": "stdout",
          "text": [
            "Intermediate:  ['ἐγγενομεν', 'απαδημησμεννωτες', 'ἀλλατῆε', 'κλησει']\n",
            "Num new words : 4; Num old list words: 3 \n",
            "Intermediate:  ['ἐγγενομεν', 'απαδημησμεννωτες', 'ἀλλατῆε', 'κλησει']\n",
            "Num new words : 4; Num old list words: 4 \n",
            "SY  ἐγγενομεναπαδημησμεννωτες ἀλλατῆε κλησει\n",
            "WS  ἐγγενομεν απαδημησμεννωτες ἀλλατῆε κλησει\n",
            "HU  ἐγγινομένα πάθη μὴ σβεννύντες ἀλλὰ τῆ εκλύσει\n"
          ]
        }
      ],
      "source": [
        "for i in range(0,1):\n",
        "  ws_str = split_iter(train_df.SYSTEM_TRANSCRIPTION[i])\n",
        "  #ws_str=' '.join(final_list)\n",
        "  prn_res(i, ws_str, train_df)"
      ]
    },
    {
      "cell_type": "markdown",
      "metadata": {
        "id": "w6YdNpCjTKoD"
      },
      "source": [
        "# Test different parameters"
      ]
    },
    {
      "cell_type": "markdown",
      "metadata": {
        "id": "UFPn-af6wiQK"
      },
      "source": [
        "# Pattern  matching"
      ]
    },
    {
      "cell_type": "code",
      "execution_count": null,
      "metadata": {
        "id": "ZSP3j8D85_kw",
        "colab": {
          "base_uri": "https://localhost:8080/",
          "height": 214
        },
        "outputId": "a3aac4d3-b06f-4c60-ece3-a5cdcd3e679d"
      },
      "outputs": [
        {
          "output_type": "execute_result",
          "data": {
            "text/plain": [
              "                                 HUMAN_TRANSCRIPTION  \\\n",
              "213  και τους μηνισκους και το καθεμα και τον κοσμον   \n",
              "\n",
              "                            SYSTEM_TRANSCRIPTION  CENTURY  \\\n",
              "213  ιαι τοῖ εμητις κοις καὶ τοκαθεμακαιτοςκοςμο       11   \n",
              "\n",
              "                                            IMAGE_PATH  TEXT_LINE_NUM  \\\n",
              "213  8 Bodleian-Library-MS-Barocci-102_00164_fol-78...              5   \n",
              "\n",
              "                                              B1     B1_CER        CER  \n",
              "213  ιαι τοῖ εμητις κοις καὶ τοκαθεμακαιτοςκοςμο  34.042553  34.042553  "
            ],
            "text/html": [
              "\n",
              "  <div id=\"df-aa90c116-4cec-4fe6-bcf8-7897003c1d54\">\n",
              "    <div class=\"colab-df-container\">\n",
              "      <div>\n",
              "<style scoped>\n",
              "    .dataframe tbody tr th:only-of-type {\n",
              "        vertical-align: middle;\n",
              "    }\n",
              "\n",
              "    .dataframe tbody tr th {\n",
              "        vertical-align: top;\n",
              "    }\n",
              "\n",
              "    .dataframe thead th {\n",
              "        text-align: right;\n",
              "    }\n",
              "</style>\n",
              "<table border=\"1\" class=\"dataframe\">\n",
              "  <thead>\n",
              "    <tr style=\"text-align: right;\">\n",
              "      <th></th>\n",
              "      <th>HUMAN_TRANSCRIPTION</th>\n",
              "      <th>SYSTEM_TRANSCRIPTION</th>\n",
              "      <th>CENTURY</th>\n",
              "      <th>IMAGE_PATH</th>\n",
              "      <th>TEXT_LINE_NUM</th>\n",
              "      <th>B1</th>\n",
              "      <th>B1_CER</th>\n",
              "      <th>CER</th>\n",
              "    </tr>\n",
              "  </thead>\n",
              "  <tbody>\n",
              "    <tr>\n",
              "      <th>213</th>\n",
              "      <td>και τους μηνισκους και το καθεμα και τον κοσμον</td>\n",
              "      <td>ιαι τοῖ εμητις κοις καὶ τοκαθεμακαιτοςκοςμο</td>\n",
              "      <td>11</td>\n",
              "      <td>8 Bodleian-Library-MS-Barocci-102_00164_fol-78...</td>\n",
              "      <td>5</td>\n",
              "      <td>ιαι τοῖ εμητις κοις καὶ τοκαθεμακαιτοςκοςμο</td>\n",
              "      <td>34.042553</td>\n",
              "      <td>34.042553</td>\n",
              "    </tr>\n",
              "  </tbody>\n",
              "</table>\n",
              "</div>\n",
              "      <button class=\"colab-df-convert\" onclick=\"convertToInteractive('df-aa90c116-4cec-4fe6-bcf8-7897003c1d54')\"\n",
              "              title=\"Convert this dataframe to an interactive table.\"\n",
              "              style=\"display:none;\">\n",
              "        \n",
              "  <svg xmlns=\"http://www.w3.org/2000/svg\" height=\"24px\"viewBox=\"0 0 24 24\"\n",
              "       width=\"24px\">\n",
              "    <path d=\"M0 0h24v24H0V0z\" fill=\"none\"/>\n",
              "    <path d=\"M18.56 5.44l.94 2.06.94-2.06 2.06-.94-2.06-.94-.94-2.06-.94 2.06-2.06.94zm-11 1L8.5 8.5l.94-2.06 2.06-.94-2.06-.94L8.5 2.5l-.94 2.06-2.06.94zm10 10l.94 2.06.94-2.06 2.06-.94-2.06-.94-.94-2.06-.94 2.06-2.06.94z\"/><path d=\"M17.41 7.96l-1.37-1.37c-.4-.4-.92-.59-1.43-.59-.52 0-1.04.2-1.43.59L10.3 9.45l-7.72 7.72c-.78.78-.78 2.05 0 2.83L4 21.41c.39.39.9.59 1.41.59.51 0 1.02-.2 1.41-.59l7.78-7.78 2.81-2.81c.8-.78.8-2.07 0-2.86zM5.41 20L4 18.59l7.72-7.72 1.47 1.35L5.41 20z\"/>\n",
              "  </svg>\n",
              "      </button>\n",
              "      \n",
              "  <style>\n",
              "    .colab-df-container {\n",
              "      display:flex;\n",
              "      flex-wrap:wrap;\n",
              "      gap: 12px;\n",
              "    }\n",
              "\n",
              "    .colab-df-convert {\n",
              "      background-color: #E8F0FE;\n",
              "      border: none;\n",
              "      border-radius: 50%;\n",
              "      cursor: pointer;\n",
              "      display: none;\n",
              "      fill: #1967D2;\n",
              "      height: 32px;\n",
              "      padding: 0 0 0 0;\n",
              "      width: 32px;\n",
              "    }\n",
              "\n",
              "    .colab-df-convert:hover {\n",
              "      background-color: #E2EBFA;\n",
              "      box-shadow: 0px 1px 2px rgba(60, 64, 67, 0.3), 0px 1px 3px 1px rgba(60, 64, 67, 0.15);\n",
              "      fill: #174EA6;\n",
              "    }\n",
              "\n",
              "    [theme=dark] .colab-df-convert {\n",
              "      background-color: #3B4455;\n",
              "      fill: #D2E3FC;\n",
              "    }\n",
              "\n",
              "    [theme=dark] .colab-df-convert:hover {\n",
              "      background-color: #434B5C;\n",
              "      box-shadow: 0px 1px 3px 1px rgba(0, 0, 0, 0.15);\n",
              "      filter: drop-shadow(0px 1px 2px rgba(0, 0, 0, 0.3));\n",
              "      fill: #FFFFFF;\n",
              "    }\n",
              "  </style>\n",
              "\n",
              "      <script>\n",
              "        const buttonEl =\n",
              "          document.querySelector('#df-aa90c116-4cec-4fe6-bcf8-7897003c1d54 button.colab-df-convert');\n",
              "        buttonEl.style.display =\n",
              "          google.colab.kernel.accessAllowed ? 'block' : 'none';\n",
              "\n",
              "        async function convertToInteractive(key) {\n",
              "          const element = document.querySelector('#df-aa90c116-4cec-4fe6-bcf8-7897003c1d54');\n",
              "          const dataTable =\n",
              "            await google.colab.kernel.invokeFunction('convertToInteractive',\n",
              "                                                     [key], {});\n",
              "          if (!dataTable) return;\n",
              "\n",
              "          const docLinkHtml = 'Like what you see? Visit the ' +\n",
              "            '<a target=\"_blank\" href=https://colab.research.google.com/notebooks/data_table.ipynb>data table notebook</a>'\n",
              "            + ' to learn more about interactive tables.';\n",
              "          element.innerHTML = '';\n",
              "          dataTable['output_type'] = 'display_data';\n",
              "          await google.colab.output.renderOutput(dataTable, element);\n",
              "          const docLink = document.createElement('div');\n",
              "          docLink.innerHTML = docLinkHtml;\n",
              "          element.appendChild(docLink);\n",
              "        }\n",
              "      </script>\n",
              "    </div>\n",
              "  </div>\n",
              "  "
            ]
          },
          "metadata": {},
          "execution_count": 77
        }
      ],
      "source": [
        "#PATT=\"τῶν\" #PATT=\"των\"\n",
        "#PATT=\"της\" # -0.033\t-0.192 189559 WORD_SCORE=0.998\n",
        "#PATT=\"τῆς\" # 0.032\n",
        "\n",
        "# PATT=\"τῆv\" # None\n",
        "# PATT=\"τηv\" #None\n",
        "\n",
        "#PATT=\"του\" \n",
        "#PATT='τού' \n",
        "PATT='τοκαθεμακαιτοςκοςμο' #'τις'\n",
        "#PATT=\"τοῦ\"\n",
        "#PATT='ἐπι' \n",
        "#PATT='ἀλλ᾽' #PATT='ἀλλ '\n",
        "#PATT=' ι ' PATT=' ἀ 'PATT='ἀλλο' ἀλλοῖσιτουτ᾽\n",
        "#PATT='τουτ' #PATT='τασ' => 0.0\n",
        "#PATT= ' ἐ ' #δ ' #' ί ' #' ῶ ' #ω '#'κ  ρ '  #' β '#' ο '#' α ' #' ι ' # ' ε ' #'δὲ' #'τής' #' πολλα' PATT='πολλαίμν'\n",
        "\n",
        "#train_df[train_df.HUMAN_TRANSCRIPTION.str.contains( PATT )][:50]\n",
        "train_df[train_df.SYSTEM_TRANSCRIPTION.str.contains( PATT )][:50]\n",
        "\n",
        "#test_df[test_df.SYSTEM_TRANSCRIPTION.str.contains( PATT )].SYSTEM_TRANSCRIPTION\n",
        "\n"
      ]
    },
    {
      "cell_type": "code",
      "execution_count": null,
      "metadata": {
        "id": "1pWv5yf0cQA7",
        "colab": {
          "base_uri": "https://localhost:8080/"
        },
        "outputId": "0e7d3dd8-2e45-472f-f83e-1a3c1663365a"
      },
      "outputs": [
        {
          "output_type": "execute_result",
          "data": {
            "text/plain": [
              "0.998"
            ]
          },
          "metadata": {},
          "execution_count": 31
        }
      ],
      "source": [
        "# cfg = {\n",
        "#     'tis' : 0.998, # lb 0.032\n",
        "#     'ths' : 0.800, # lb -0.013  ; 0.909  # lb -0.033\n",
        "#     'polla' : 0.900\n",
        "# }\n",
        "\n",
        "patts=['της', 'τῆς', 'τής', 'πολλα', 'ἐπι', 'ἀλλ', 'ἀλλῶ', 'ὑπερ', 'τού', 'τοῖς', 'αυτων', 'τις']\n",
        "maxsc=[0.998, 0.800, 0.998, 0.9, 0.998, 0.998, 0.995, 0.998, 0.998, 0.999, 0.998, 0.999]\n",
        "\n",
        "pa='τής'\n",
        "maxsc[patts.index(f'{pa}')]"
      ]
    },
    {
      "cell_type": "code",
      "execution_count": null,
      "metadata": {
        "id": "P_0m9vMgqkCr"
      },
      "outputs": [],
      "source": [
        "#WORD_SCORE= 0.909 #0.850 cerr 0.0147 #0.909 cerr 0.0176 #0.950 #0.998\n",
        "WLEN_SPLIT = 15      # split above\n",
        "WLEN_NOT_SPLIT = 3  # not split below: this + len(pat)\n",
        "SPLIT_ABOVE = 15\n",
        "\n",
        "def tsc(word):\n",
        "  sent=Sentence([word])\n",
        "  tagger.predict(sent)\n",
        "  return sent[0].score\n",
        "\n",
        "def wpat(word, pat):\n",
        "  SL=len(pat)\n",
        "  if len(word)==SL:return word\n",
        "  #print('word score ', tsc(word))\n",
        "  i = word.find(pat)\n",
        "  #print(\"Substring found at index:\", i)\n",
        "  if i==0: w1=word[0:SL]; w2=word[SL:]\n",
        "  else : w1=word[0:i]; w2=word[i:]\n",
        "  #print(w1,w2)\n",
        "  sent=Sentence([w1,w2])\n",
        "  tagger.predict(sent)\n",
        "  t1=sent[0]; t2=sent[1]\n",
        "  s1,s2 = t1.score, t2.score\n",
        "  print(f'{tsc(word):.3f} =>{s1:.3f}, {s2:.3f}')\n",
        "\n",
        "  WSC=maxsc[patts.index(f'{pat}')]\n",
        "\n",
        "  if max(s1,s2) > 0.8 * WSC  and len(word) > SPLIT_ABOVE: return w1+' '+w2\n",
        "  # unremark for POLLA: if min(len(w1), len(w2)) <= WLEN_NOT_SPLIT : return word\n",
        "  if tsc(word) > WSC : return word\n",
        "  if tsc(word) > max(s1,s2) : return word\n",
        "  else : return w1+' '+w2\n",
        "\n",
        "def pattern(sent, pat):\n",
        "  ii = sent.find(pat)\n",
        "  if ii < 0 : return sent\n",
        "  words=[ w for w in sent.split() ]\n",
        "  for j,w in enumerate(words):\n",
        "    iw = w.find(pat)\n",
        "    if iw < 0: continue\n",
        "    else : break\n",
        "\n",
        "  if j==0: ispw = 0; s0='' # pat is the first word in sent, don't look for possible next ' '+w\n",
        "  else : \n",
        "    ispw = sent.find(' '+w)\n",
        "    if ispw < 0: ispw=0; s0=''\n",
        "    else: ispw+=1; s0=sent[:ispw]\n",
        "    \n",
        "  ispe = sent.find(' ',ii)\n",
        "  if ispe < 0: ispe=len(sent); s1=''\n",
        "  else : s1=sent[ispe:]\n",
        "\n",
        "  print(sent)\n",
        "  #print('ispw ', ispw, 'ispe ',ispe)\n",
        "  word=sent[ispw:ispe]\n",
        "  #print('*'+word+'*')\n",
        "  tword=wpat(word, pat) # process pattern in word\n",
        "  print(s0+tword+s1)\n",
        "  return s0+tword+s1\n",
        "\n"
      ]
    },
    {
      "cell_type": "code",
      "execution_count": null,
      "metadata": {
        "id": "MUHRqozn9Drm",
        "colab": {
          "base_uri": "https://localhost:8080/",
          "height": 87
        },
        "outputId": "b949dfcc-df30-493c-8d7c-36ef69b661ea"
      },
      "outputs": [
        {
          "output_type": "stream",
          "name": "stdout",
          "text": [
            "των ερευπτων ταμεν τής σάρκος παραπετα\n",
            "των ερευπτων ταμεν τής σάρκος παραπετα\n",
            "των ερευπτων ταμεν τής σάρκος παραπετα\n"
          ]
        },
        {
          "output_type": "execute_result",
          "data": {
            "text/plain": [
              "'των ερευπτων ταμεν τής σάρκος παραπετα'"
            ],
            "application/vnd.google.colaboratory.intrinsic+json": {
              "type": "string"
            }
          },
          "metadata": {},
          "execution_count": 33
        }
      ],
      "source": [
        "def ths(sent):\n",
        "  return pattern(sent, 'της')\n",
        "\n",
        "def tiss(sent):\n",
        "  return pattern(sent, 'τις')\n",
        "\n",
        "\n",
        "def tis(sent):\n",
        "  return pattern(sent, 'τῆς')\n",
        "\n",
        "def polla(sent):\n",
        "  return pattern(sent, 'πολλα')\n",
        "\n",
        "def tiis(sent):\n",
        "  return pattern(sent, 'τής')\n",
        "ss=train_df.iloc[134].SYSTEM_TRANSCRIPTION\n",
        "\n",
        "def All(sent):\n",
        "  return pattern(sent, 'ἀλλ')\n",
        "\n",
        "def epi(sent):\n",
        "  return pattern(sent, 'ἐπι')\n",
        "  \n",
        "def allo(sent):\n",
        "  return pattern(sent, 'ἀλλῶ')\n",
        "  \n",
        "def epi(sent):\n",
        "  return pattern(sent, 'ἐπι')\n",
        "\n",
        "def tou(sent):\n",
        "  return pattern(sent, 'τού')\n",
        "  \n",
        "def uper(sent):\n",
        "  return pattern(sent, 'ὑπερ')\n",
        "\n",
        "def tois(sent):\n",
        "  return pattern(sent, 'τοῖς')\n",
        "\n",
        "def auton(sent):\n",
        "  return pattern(sent, 'αυτων')\n",
        "  \n",
        " \n",
        " \n",
        "#ss=test_df.iloc[44].SYSTEM_TRANSCRIPTION\n",
        "print(ss)\n",
        "rtis=tiis(ss)\n",
        "rtis\n",
        " "
      ]
    },
    {
      "cell_type": "code",
      "execution_count": null,
      "metadata": {
        "id": "dMJg6yYB7HwE"
      },
      "outputs": [],
      "source": [
        "#test_df[test_df.SYSTEM_TRANSCRIPTION.str.contains(\"τῆς\")] \n"
      ]
    },
    {
      "cell_type": "markdown",
      "metadata": {
        "id": "n8zOZOKo7Rbn"
      },
      "source": [
        "# Tests and CERR\n",
        "\n",
        "*  WS: ST_OFF=5 ; END_OFF=4 # -1.562\t-9.980  cer: 99.2936\n",
        "*  WS: ST_OFF=6 ; END_OFF=6 #  -0.402\t-2.265  cer: 0.64627\n",
        "*  WS: ST_OFF=7 ; END_OFF=7 #  -0.164\t-0.598  cer: 0.34568\n",
        "*  S1: > > >  -0.152\t-0.565 cer (R0,S1):    0.38325\n",
        "* 189440:  lmr + dot: -0.017\t-0.238 [ cer(R0,lmr) 0.0375, cer(R0, dot) 0.0901, cer(R0, lmr+dot)  0.1277 \n",
        "* 189536: -0.008\t0.000  serr 0.14, 0.0375\n",
        "* 189549\t TIS (WC=0.998)\t0.032\t-0.022\n",
        "* 189604: ALL \t-0.013\t0.008\n",
        "* 189610: THS (WC=0.8) \t-0.013\t-0.075\n",
        "* 189671: THS (WC=0.55)\t-0.013\t-0.009\n",
        "* 189674! TIS (WC=0.93)\t0.032\t-0.022\n",
        "* 189704: TAS\t0.000\t0.000\n",
        "* 189710: POLLA\t0.000\t0.000\n",
        "* 189914\tTIIS (WC=0.998)\t-0.006\t0.000\n",
        "* 189926!\tEPS\t 0.006\t0.101\n",
        "* 189928\tIOT\t-0.007\t0.000\n",
        "* 190011\tOMG\t-0.038\t-0.059\n",
        "* 190019\tDLT\t-0.017\t-0.042\n",
        "* 190103\tBWS (4,4,0.5) \t-0.032\t0.025\n",
        "* 190104\tBWS (4,4,0.65) \t-0.051\t-0.049\n",
        "* 190286\tBWS (4,5,0.8) \t-0.085\t-0.138\n",
        "* 190290\t EPI\t-0.003\t-0.037 cer:    0.010065280533747448 CERR  -0.003862656493202014\n",
        "* 190291\tAALL -0.014\t-0.094 cer:    0.05032640266873724 CERR  -0.001385179750976074\n",
        "* 190293!  UPER 0.001\t-0.099   cer:    0.00862738331464067 CERR  -0.004430143567398466\n",
        "* 190426\t TOU\t0.000\t0.000\n",
        "* 190427\t TOIS -0.012\t-0.037\n",
        "* 190430\t AUTON -0.014\t-0.074\n",
        "* 190431   EPS+UPER: 0.007\t0.003\n",
        "* 190436   TISS: -0.015\t-0.020\n",
        "\n",
        "\n",
        " cfg['st_off'] = 4; cfg['end_off']=5; cfg['min_split'] = 0.8\n",
        "\n",
        "* 190672\tWs\t'vn' -0.080\t-0.173\n",
        "* 190676\tBWS 'n'\t -0.072\t-0.173\n",
        "* 190716  BWS\t-0.084\t-0.088  cfg['min_max'] = 0.65\n",
        "* 190717\tBws\t-0.063\t-0.123   -'- 0.75\n",
        "*    719    Bws -0.108\t-0.173 -'- cfg['st_off']='endoff' = 4"
      ]
    },
    {
      "cell_type": "code",
      "execution_count": null,
      "metadata": {
        "id": "j-GtGl1PUJ-j",
        "colab": {
          "base_uri": "https://localhost:8080/"
        },
        "outputId": "e315b94b-01f0-4eca-8d60-93cfa3e13031"
      },
      "outputs": [
        {
          "output_type": "execute_result",
          "data": {
            "text/plain": [
              "320                      στικῆ κ ἀτελεύτητος εξις, καὶ ς\n",
              "321                εαπειν πασης ουσίας κιίςδυναμεω  ἐνερ\n",
              "322    γειας α᾽ρχής τε κ μεσοτητος καὶ τἣέλους πὩοιητικη\n",
              "323        η ἀρχῆ κ μεσοτης και νῦνκοὐκ το τελος τῶν χρό\n",
              "324        νω Ξανθία. διαιρετῶν εισι γνωρίσματα. ειποι δ\n",
              "325            αν τις αλκηθεύων καὶ τῶνΒἢ εν αἰῶνι συνορ\n",
              "326    ωμενων ο μέν αὐτοῖς γὰρ χρόνος μετρουμενην ἔχω...\n",
              "327            ἐκείνου κίνησιν ἀριθμω περιγραφεται. ὁ αι\n",
              "328             ῶᾦν δὲ συνεπινοουμενην ὃἔχων τῆ ὑπαἙρξει\n",
              "329       Ἕκτωρ τ᾽ ἀδελφὸς οὑμὸς εὐτύχει δορί, μεταβολὴν\n",
              "330                   καλῶς παρ᾽ ἀῃδρὶ Θρκνὶ πατρῴῳ ξένῳ\n",
              "331               τροφαῖσιν ὥς τιςπτόρθος ηὐξόμην τάλας·\n",
              "332                     ἐπεὶ Τροία θ᾽ Ἕκτορός τ᾽ ἀπώλετο\n",
              "333                       ψυχὴ πακρῴα θ᾽ κστία ἑατεστάφη\n",
              "334                         τε βωμῷ πρὸς θεοδμήτῳ πίτνει\n",
              "335             σφαγεὶς Ἀχιλλέως παὺιδὸς ἐἴἥκ μιαιφόνου,\n",
              "336               κτείνει ωε χρυμοῦ τὸν ταλαίσπρον χάριν\n",
              "337               ξένος πατρῷος καὶνκτα ὼ  ἐςνοἶδμ᾽ ἁλὸς\n",
              "Name: SYSTEM_TRANSCRIPTION, dtype: object"
            ]
          },
          "metadata": {},
          "execution_count": 35
        }
      ],
      "source": [
        "B0 = train_df.SYSTEM_TRANSCRIPTION\n",
        "\n",
        "\n",
        "#B0\n",
        "R0 = test_df.SYSTEM_TRANSCRIPTION\n",
        "R0[320:]\n",
        "#R3 = test_df.SYSTEM_TRANSCRIPTION.apply(split_iter)"
      ]
    },
    {
      "cell_type": "code",
      "execution_count": null,
      "metadata": {
        "id": "pW_lrOs1KWAS"
      },
      "outputs": [],
      "source": [
        "def cerr():\n",
        "  #!! Assume the prediction for training set is in B1 !!!\n",
        "  train_df[\"B1\"] = B1 #train_df.SYSTEM_TRANSCRIPTION.apply(split_iter)  #lmr)\n",
        "\n",
        "  # Calculate CER for baseline predictions\n",
        "  train_df[\"B1_CER\"] = train_df.apply(lambda row: pywer.cer([row.HUMAN_TRANSCRIPTION], [row.B1]), axis=1)\n",
        "  #print(f\"B1 CER: {train_df.B1_CER.mean()}\")\n",
        "\n",
        "  # Computing the character error *reduction* rate (CERR)\n",
        "  train_df[\"CER\"] = train_df.apply(lambda row: pywer.cer([row.HUMAN_TRANSCRIPTION], [row.SYSTEM_TRANSCRIPTION]), axis=1)\n",
        "  ret_cerr = (train_df.CER - train_df.B1_CER).mean()\n",
        "  print(f\"B1 CERR: {ret_cerr}\")\n",
        "  return ret_cerr"
      ]
    },
    {
      "cell_type": "code",
      "execution_count": null,
      "metadata": {
        "id": "er1sY3y2noZK"
      },
      "outputs": [],
      "source": [
        "# import time\n",
        "# start_time = time.time()\n",
        "# end_time = time.time()\n",
        "# time_elapsed = (end_time - start_time)\n",
        "# print(time_elapsed)"
      ]
    },
    {
      "cell_type": "code",
      "execution_count": null,
      "metadata": {
        "id": "tEH8Vpn-TItP"
      },
      "outputs": [],
      "source": [
        "# #%%capture\n",
        "# split_offs = pd.DataFrame(columns=[\"st_off\", \"end_off\", \"min_split\", \"time\", \"CERR\"])\n",
        "# # MIN_WORD_LEN = cfg['st_off'] + cfg['end_off'] + 1\n",
        "# # 4,4, 0.5-> 0.65\n",
        "# for min_sc in [3.5] : # np.linspace(0.35, 0.8, 4):\n",
        "#   for st_off in range(3,4): #(3,6):\n",
        "#     for end_off in range(3,4):\n",
        "#       print(f'####################################################################### st_off: {st_off}, end_off: {end_off}, min_sc: {min_sc:.3f}')\n",
        "#       start_time = time.time()\n",
        "#       cfg['min_split'] = min_sc\n",
        "#       cfg['st_off'] = st_off; cfg['end_off']=end_off\n",
        "\n",
        "#       B1=B0.apply(split_big_word)\n",
        "#       res=cerr()\n",
        "#       end_time = time.time()\n",
        "#       t_elapsed = (end_time - start_time)\n",
        "#       new_row = {'st_off':st_off, 'end_off':end_off, 'min_split':min_sc, 'time':t_elapsed, 'CERR':res }\n",
        "#       split_offs = split_offs.append(new_row, ignore_index=True)\n",
        "\n",
        "# print('time elapsed ', t_elapsed) # 12 min\n",
        "# split_offs"
      ]
    },
    {
      "cell_type": "code",
      "execution_count": null,
      "metadata": {
        "id": "gSIcDrTnmYG9"
      },
      "outputs": [],
      "source": [
        "#split_offs = pd.DataFrame(columns=[\"st_off\", \"end_off\", \"min_split\", \"CERR\"])\n",
        "#split_offs"
      ]
    },
    {
      "cell_type": "code",
      "execution_count": null,
      "metadata": {
        "id": "ZR-vr4v1i2Lw"
      },
      "outputs": [],
      "source": [
        "# split_cerr = pd.DataFrame(columns=[\"MinScore\",\"SumScore\",\"CERR\"])\n",
        "# new_row = {'MinScore':0.5, 'SumScore':1.23, 'CERR':0.98 }\n",
        "# split_cerr = split_cerr.append(new_row, ignore_index=True)\n",
        "# split_cerr"
      ]
    },
    {
      "cell_type": "code",
      "execution_count": null,
      "metadata": {
        "id": "nIkAEImkhQIx"
      },
      "outputs": [],
      "source": [
        "# ST_OFF=7 ; END_OFF=7 \n",
        "# MIN_WORD_LEN=ST_OFF+END_OFF+1\n",
        "# MIN_SCORE=0.4\n",
        "# SUM_SCORE=1.1\n",
        "# #split_cerr = pd.DataFrame(columns=[\"MinScore\",\"SumScore\",\"CERR\"])\n",
        "# split_offs = pd.DataFrame(columns=[\"ST_OFF\",\"END_OFF\",\"CERR\"])\n",
        "\n",
        "# # 0.3900\t1.133333 ===>\t0.014362  \n",
        "# # for min_sc in np.linspace(0.39, 0.6, 5):\n",
        "# #   for sum_sc in np.linspace(1.0, 1.4, 4):\n",
        "# for st_off in range(3,9):\n",
        "#   for end_off in range(3,9):\n",
        "#     ST_OFF = st_off; END_OFF=end_off\n",
        "#     B1=B0.apply(split_iter)\n",
        "#     res=cerr()\n",
        "#     new_row = {'ST_OFF':st_off, 'END_OFF':end_off, 'CERR':res }\n",
        "#     split_offs = split_offs.append(new_row, ignore_index=True)\n"
      ]
    },
    {
      "cell_type": "code",
      "execution_count": null,
      "metadata": {
        "id": "f6jFSfRFHTxd"
      },
      "outputs": [],
      "source": [
        "# split_offs = pd.DataFrame(columns=[\"ST_OFF\",\"END_OFF\",\"CERR\"])\n",
        "# # 3.0\t3.0\t0.014362\n",
        "# # 7.0\t7.0\t0.014362\n",
        "# for st_off in range(9,10):\n",
        "#   for end_off in range(9,10):\n",
        "#     cfg['st_off'] = st_off; cfg['end_off']=end_off\n",
        "#     B1=B0.apply(split_iter)\n",
        "#     res=cerr()\n",
        "#     new_row = {'ST_OFF':st_off, 'END_OFF':end_off, 'CERR':res }\n",
        "#     split_offs = split_offs.append(new_row, ignore_index=True)\n",
        "# split_offs"
      ]
    },
    {
      "cell_type": "code",
      "execution_count": null,
      "metadata": {
        "id": "pbJcLB3nJ1HV"
      },
      "outputs": [],
      "source": [
        "# ST_OFF=8; END_OFF=8; \n",
        "# B1=B0.apply(split_iter)\n",
        "# res=cerr()"
      ]
    },
    {
      "cell_type": "code",
      "execution_count": null,
      "metadata": {
        "id": "SP_BKmu1-Zhw"
      },
      "outputs": [],
      "source": [
        "# cerr_res=[]\n",
        "# cerr_df = pd.DataFrame(columns=['WordScore','CERR'])\n",
        "# pa='τής'\n",
        "# for wsc in np.linspace(0.6, 0.9999, 10):\n",
        "#   maxsc[patts.index(f'{pa}')] = wsc\n",
        "#   B1=B0.apply(tiis)\n",
        "#   res=cerr()\n",
        "#   new_row = {'WordScore':wsc, 'CERR':res}\n",
        "#   cerr_df = cerr_df.append(new_row, ignore_index=True)\n",
        "\n",
        "#   print(\">>>>>>>>>>>>>>>> \", wsc, res, \">>>>>>>>>>>>>>>>>>>>>>>>>>>>>\" )\n",
        "\n",
        "# cerr_df"
      ]
    },
    {
      "cell_type": "markdown",
      "metadata": {
        "id": "dQT6ZhQvKPQi"
      },
      "source": [
        "# Save to Google Drive or Download"
      ]
    },
    {
      "cell_type": "code",
      "execution_count": null,
      "metadata": {
        "id": "sj9YbiqmJi54"
      },
      "outputs": [],
      "source": [
        "# from google.colab import drive\n",
        "\n",
        "# drive.mount('/content/drive')\n",
        "# path = '/content/drive/My Drive/split_offs.csv'\n",
        "\n",
        "# with open(path, 'w', encoding = 'utf-8-sig') as f:\n",
        "#   split_offs.to_csv(f)\n",
        "\n",
        "# # from google.colab import files\n",
        "\n",
        "# # tis_cerr.to_csv('tis_cerr.csv', encoding = 'utf-8-sig') \n",
        "# # files.download('tis_cerr.csv')"
      ]
    },
    {
      "cell_type": "code",
      "execution_count": null,
      "metadata": {
        "id": "fNMfgM5kLwoK"
      },
      "outputs": [],
      "source": [
        "# # Use cfg['ths'] = 0.55 || cfg['tis'] = 0.93 \n",
        "# cfg['tis'] = 0.93 "
      ]
    },
    {
      "cell_type": "markdown",
      "metadata": {
        "id": "FiyIAYDoS0yd"
      },
      "source": [
        "# LMing"
      ]
    },
    {
      "cell_type": "code",
      "execution_count": null,
      "metadata": {
        "colab": {
          "base_uri": "https://localhost:8080/"
        },
        "id": "OMoje4qrSUmn",
        "outputId": "493fa473-4a15-4a01-d97f-8372f820b1d2"
      },
      "outputs": [
        {
          "output_type": "stream",
          "name": "stdout",
          "text": [
            "Cloning into 'lm'...\n",
            "remote: Enumerating objects: 501, done.\u001b[K\n",
            "remote: Counting objects: 100% (19/19), done.\u001b[K\n",
            "remote: Compressing objects: 100% (8/8), done.\u001b[K\n",
            "remote: Total 501 (delta 14), reused 11 (delta 11), pack-reused 482\u001b[K\n",
            "Receiving objects: 100% (501/501), 114.89 KiB | 9.57 MiB/s, done.\n",
            "Resolving deltas: 100% (272/272), done.\n"
          ]
        }
      ],
      "source": [
        "!git clone https://github.com/ipavlopoulos/lm.git\n",
        "from lm.markov.models import LM\n",
        "lm = LM(gram=\"CHAR\").train(train_df.HUMAN_TRANSCRIPTION.sum()); #cslm.generate_text()"
      ]
    },
    {
      "cell_type": "code",
      "execution_count": null,
      "metadata": {
        "colab": {
          "base_uri": "https://localhost:8080/",
          "height": 35
        },
        "id": "9xOtwstwSuw5",
        "outputId": "b108e2db-61ab-40a7-b015-cdf5232e26c5"
      },
      "outputs": [
        {
          "output_type": "execute_result",
          "data": {
            "text/plain": [
              "'ως ως αὐτοῦ ον πος τοῦ χυ καιρήε,'"
            ],
            "application/vnd.google.colaboratory.intrinsic+json": {
              "type": "string"
            }
          },
          "metadata": {},
          "execution_count": 48
        }
      ],
      "source": [
        "def lmr(text, word=\" ς \", replacements=[\"ς \", \" \"], lm=lm):\n",
        "    scores = []\n",
        "    for the_candidate in replacements:\n",
        "        scores.append(lm.cross_entropy(text.replace(word, the_candidate)))\n",
        "    text_out = text.replace(word, replacements[scores.index(min(scores))])\n",
        "    return text_out\n",
        "    \n",
        "lmr(\"ως ω ς αὐτοῦ ον πος τοῦ χυ καιρήε,\")"
      ]
    },
    {
      "cell_type": "code",
      "execution_count": null,
      "metadata": {
        "id": "7Nw7w9L_8olv"
      },
      "outputs": [],
      "source": [
        "# def dot(text, word=\"·\", replacements=[\"\", \",\"], lm=lm):  \n",
        "#     scores = []\n",
        "#     for the_candidate in replacements:\n",
        "#         scores.append(lm.cross_entropy(text.replace(word, the_candidate)))\n",
        "#     text_out = text.replace(word, replacements[scores.index(min(scores))])\n",
        "#     return text_out\n",
        "    \n",
        "# dot(\"ως λογον· \")"
      ]
    },
    {
      "cell_type": "code",
      "execution_count": null,
      "metadata": {
        "colab": {
          "base_uri": "https://localhost:8080/",
          "height": 52
        },
        "id": "nVOnrcfTQZkh",
        "outputId": "2f3a9be5-c772-4bdb-9600-e9ea96c3d336"
      },
      "outputs": [
        {
          "output_type": "stream",
          "name": "stdout",
          "text": [
            "επαιρομέν ε κατα τῆς ἵνωσεως του\n"
          ]
        },
        {
          "output_type": "execute_result",
          "data": {
            "text/plain": [
              "'επαιρομέν κατα τῆς ἵνωσεως του'"
            ],
            "application/vnd.google.colaboratory.intrinsic+json": {
              "type": "string"
            }
          },
          "metadata": {},
          "execution_count": 50
        }
      ],
      "source": [
        "def eps(text, word=\" ε \", replacements=[' ', ' ε', 'ε '], lm=lm):  \n",
        "    scores = []\n",
        "    for the_candidate in replacements:\n",
        "        scores.append(lm.cross_entropy(text.replace(word, the_candidate)))\n",
        "    text_out = text.replace(word, replacements[scores.index(min(scores))])\n",
        "    return text_out\n",
        "\n",
        "print(train_df.iloc[1125].SYSTEM_TRANSCRIPTION)\n",
        "eps(train_df.iloc[1125].SYSTEM_TRANSCRIPTION)"
      ]
    },
    {
      "cell_type": "code",
      "execution_count": null,
      "metadata": {
        "id": "Gdfu9tZ-vDen"
      },
      "outputs": [],
      "source": [
        "# def Tis(text, word=\"τής \", replacements=[\" τής \"], lm=lm):  \n",
        "#     scores = []\n",
        "#     for the_candidate in replacements:\n",
        "#         scores.append(lm.cross_entropy(text.replace(word, the_candidate)))\n",
        "#     text_out = text.replace(word, replacements[scores.index(min(scores))])\n",
        "#     return text_out\n",
        "    \n",
        "# Tis(all(train_df.iloc[183].SYSTEM_TRANSCRIPTION))\n"
      ]
    },
    {
      "cell_type": "code",
      "execution_count": null,
      "metadata": {
        "id": "e7kY6ZPDlBmq"
      },
      "outputs": [],
      "source": [
        "# def all(text, word='ἀλλ ', replacements=['ἀλλ᾽' , 'ἀλλ'], lm=lm):\n",
        "# #def all(text, word=\"ἀλλ \", replacements=[\"ἀλλ\"], lm=lm):\n",
        "#     scores = []\n",
        "#     for the_candidate in replacements:\n",
        "#         scores.append(lm.cross_entropy(text.replace(word, the_candidate)))\n",
        "#     text_out = text.replace(word, replacements[scores.index(min(scores))])\n",
        "#     return text_out\n",
        "    \n",
        "# all(train_df.iloc[948].SYSTEM_TRANSCRIPTION)\n",
        "\n"
      ]
    },
    {
      "cell_type": "code",
      "execution_count": null,
      "metadata": {
        "id": "Uts8or3-1ntE"
      },
      "outputs": [],
      "source": [
        "# #PATT=\"τού\" τοῦ\n",
        "# #PATT='ἀλλ ' \n",
        "# def tou(text, word=\"τοῦ \", replacements=[\"τού\", \"τοῦ\"], lm=lm):\n",
        "# #def all(text, word=\"ἀλλ \", replacements=[\"ἀλλ\"], lm=lm):\n",
        "#     scores = []\n",
        "#     for the_candidate in replacements:\n",
        "#         scores.append(lm.cross_entropy(text.replace(word, the_candidate)))\n",
        "#     text_out = text.replace(word, replacements[scores.index(min(scores))])\n",
        "#     return text_out\n",
        "    \n",
        "# tou(train_df.iloc[1590].SYSTEM_TRANSCRIPTION)\n",
        "\n"
      ]
    },
    {
      "cell_type": "code",
      "execution_count": null,
      "metadata": {
        "id": "_e076uBwkCYd"
      },
      "outputs": [],
      "source": [
        "# def iot(text, word=\" ι \", replacements=[' ', ' ι', 'ι '], lm=lm):  \n",
        "#     scores = []\n",
        "#     for the_candidate in replacements:\n",
        "#         scores.append(lm.cross_entropy(text.replace(word, the_candidate)))\n",
        "#     text_out = text.replace(word, replacements[scores.index(min(scores))])\n",
        "#     return text_out\n",
        "\n",
        "# print(train_df.iloc[649].SYSTEM_TRANSCRIPTION)\n",
        "# iot(train_df.iloc[649].SYSTEM_TRANSCRIPTION)"
      ]
    },
    {
      "cell_type": "code",
      "execution_count": null,
      "metadata": {
        "id": "JyWWcEVbW0Ff"
      },
      "outputs": [],
      "source": [
        "# def omg(text, word=\" ω \", replacements=[' ', ' ὡ', 'ὡ ', ' ω', 'ω '], lm=lm):  \n",
        "#     scores = []\n",
        "#     for the_candidate in replacements:\n",
        "#         scores.append(lm.cross_entropy(text.replace(word, the_candidate)))\n",
        "#     text_out = text.replace(word, replacements[scores.index(min(scores))])\n",
        "#     return text_out\n",
        "\n",
        "# sent = train_df.iloc[1156].SYSTEM_TRANSCRIPTION\n",
        "# print(sent)\n",
        "# omg(sent)"
      ]
    },
    {
      "cell_type": "code",
      "execution_count": null,
      "metadata": {
        "id": "BeeJzus6a1LL"
      },
      "outputs": [],
      "source": [
        "# def dlt(text, word=' δ ', replacements=[' ', ' δ', 'δ ', ' δ᾽ '], lm=lm):  \n",
        "#     scores = []\n",
        "#     for the_candidate in replacements:\n",
        "#         scores.append(lm.cross_entropy(text.replace(word, the_candidate)))\n",
        "#     text_out = text.replace(word, replacements[scores.index(min(scores))])\n",
        "#     return text_out\n",
        "\n",
        "# i=487\n",
        "# sent = train_df.iloc[i].SYSTEM_TRANSCRIPTION\n",
        "# print(sent)\n",
        "# print(train_df.iloc[i].HUMAN_TRANSCRIPTION)\n",
        "# dlt(sent)"
      ]
    },
    {
      "cell_type": "code",
      "execution_count": null,
      "metadata": {
        "id": "buQ8ZBZGNdRV"
      },
      "outputs": [],
      "source": [
        "# def tas(text, word=\" τασ\", replacements=[\" τας \"], lm=lm):\n",
        "#     scores = []\n",
        "#     for the_candidate in replacements:\n",
        "#         scores.append(lm.cross_entropy(text.replace(word, the_candidate)))\n",
        "#     text_out = text.replace(word, replacements[scores.index(min(scores))])\n",
        "#     return text_out\n",
        "    \n",
        "# tas(train_df.iloc[100].SYSTEM_TRANSCRIPTION)\n",
        "\n"
      ]
    },
    {
      "cell_type": "markdown",
      "metadata": {
        "id": "G8cfFOX9UFKv"
      },
      "source": [
        " **Predictions**"
      ]
    },
    {
      "cell_type": "code",
      "execution_count": null,
      "metadata": {
        "colab": {
          "base_uri": "https://localhost:8080/"
        },
        "id": "kyP4Wl0dOwHo",
        "outputId": "535da052-d245-4bd2-fd92-edb875f77953"
      },
      "outputs": [
        {
          "output_type": "stream",
          "name": "stdout",
          "text": [
            "cer:    89.14856842263471\n"
          ]
        }
      ],
      "source": [
        "B1=B0.apply(eps)\n",
        "print('cer:   ', pywer.cer(R0,B1))"
      ]
    },
    {
      "cell_type": "code",
      "execution_count": null,
      "metadata": {
        "colab": {
          "base_uri": "https://localhost:8080/"
        },
        "id": "9OAHwuixTAzX",
        "outputId": "7c10dece-3506-414b-d7e4-b254ca688d7f"
      },
      "outputs": [
        {
          "output_type": "stream",
          "name": "stdout",
          "text": [
            "cer:    0.037574209062899225\n"
          ]
        }
      ],
      "source": [
        "B1=R0.apply(lmr)\n",
        "print('cer:   ', pywer.cer(R0,B1))"
      ]
    },
    {
      "cell_type": "code",
      "execution_count": null,
      "metadata": {
        "id": "w5Al7TOP4WSU"
      },
      "outputs": [],
      "source": [
        "# ALL=R0.apply(all)\n",
        "# print('cer:   ', pywer.cer(R0,ALL))"
      ]
    },
    {
      "cell_type": "code",
      "execution_count": null,
      "metadata": {
        "id": "Y681j-cj_154"
      },
      "outputs": [],
      "source": [
        "# D=S1.apply(dot)\n",
        "# print('cer:   ', pywer.cer(R0,D))"
      ]
    },
    {
      "cell_type": "code",
      "execution_count": null,
      "metadata": {
        "id": "t3RgK9WbcWlc"
      },
      "outputs": [],
      "source": [
        "#TIS=R0.apply(tis)\n",
        "#print('cer:   ', pywer.cer(R0,TIS))"
      ]
    },
    {
      "cell_type": "code",
      "execution_count": null,
      "metadata": {
        "id": "zvHDZga2zK8p"
      },
      "outputs": [],
      "source": [
        "# POLLA=R0.apply(polla)\n",
        "# print('cer:   ', pywer.cer(R0,POLLA))"
      ]
    },
    {
      "cell_type": "code",
      "execution_count": null,
      "metadata": {
        "colab": {
          "base_uri": "https://localhost:8080/"
        },
        "id": "q68bRG0HSRae",
        "outputId": "7c1ba604-fde8-46bf-d39e-40e0a7f6d599"
      },
      "outputs": [
        {
          "output_type": "stream",
          "name": "stdout",
          "text": [
            "cer:    0.022544525437739535\n"
          ]
        }
      ],
      "source": [
        "EPS=R0.apply(eps)\n",
        "print('cer:   ', pywer.cer(R0,EPS))\n",
        "# B1=B0.apply(eps)\n",
        "# print('cer:   ', pywer.cer(B0,B1), 'CERR ', cerr())"
      ]
    },
    {
      "cell_type": "code",
      "execution_count": null,
      "metadata": {
        "id": "_-D1CBdOSF3t"
      },
      "outputs": [],
      "source": [
        "# TISS=R0.apply(tiss)\n",
        "# print('cer:   ', pywer.cer(R0, TISS))\n",
        "# B1=B0.apply(tiss)\n",
        "# print('cer:   ', pywer.cer(B0,B1), 'CERR ', cerr())"
      ]
    },
    {
      "cell_type": "code",
      "execution_count": null,
      "metadata": {
        "id": "D_VIwP_qAB1W"
      },
      "outputs": [],
      "source": [
        "# AUTON=R0.apply(auton)\n",
        "# print('cer:   ', pywer.cer(R0, AUTON))\n",
        "# B1=B0.apply(auton)\n",
        "# print('cer:   ', pywer.cer(B0,B1), 'CERR ', cerr())"
      ]
    },
    {
      "cell_type": "code",
      "execution_count": null,
      "metadata": {
        "id": "6f1KEQIMMbA6"
      },
      "outputs": [],
      "source": [
        "# AALL=R0.apply(All)\n",
        "# print('cer:   ', pywer.cer(R0,AALL))\n",
        "# B1=B0.apply(All)\n",
        "# print('cer:   ', pywer.cer(B0,B1), 'CERR ', cerr())"
      ]
    },
    {
      "cell_type": "code",
      "execution_count": null,
      "metadata": {
        "id": "68VaEKiNOM5-"
      },
      "outputs": [],
      "source": [
        "# #UPER=EPS.apply(uper)\n",
        "# UPER=R0.apply(uper)\n",
        "# print('cer:   ', pywer.cer(R0,UPER))\n",
        "# B1=B0.apply(uper)\n",
        "# print('cer:   ', pywer.cer(B0,B1), 'CERR ', cerr())"
      ]
    },
    {
      "cell_type": "code",
      "execution_count": null,
      "metadata": {
        "id": "5abnZU7tONP-"
      },
      "outputs": [],
      "source": [
        "# EPI=R0.apply(epi)\n",
        "# print('cer:   ', pywer.cer(R0,EPI))\n",
        "# # B1=B0.apply(epi)\n",
        "# # print('cer:   ', pywer.cer(B0,B1), 'CERR ', cerr())"
      ]
    },
    {
      "cell_type": "code",
      "execution_count": null,
      "metadata": {
        "id": "kn78KX9RCC1l"
      },
      "outputs": [],
      "source": [
        "# D0=R0.apply(dot)\n",
        "# print('cer:   ', pywer.cer(R0,D0))"
      ]
    },
    {
      "cell_type": "code",
      "execution_count": null,
      "metadata": {
        "id": "CJZWBEM7YX1q"
      },
      "outputs": [],
      "source": [
        "# B1=B0.apply(omg)\n",
        "# print('cer:   ', pywer.cer(B0,B1), 'CERR ', cerr())\n",
        "# OMG=R0.apply(omg)\n",
        "# print('cer:   ', pywer.cer(R0,OMG))"
      ]
    },
    {
      "cell_type": "code",
      "execution_count": null,
      "metadata": {
        "id": "RZNuKfEclVW2"
      },
      "outputs": [],
      "source": [
        "B1=B0.apply(big_word_splitter)\n",
        "print('cer:   ', pywer.cer(B0,B1), 'CERR ', cerr())\n",
        "\n"
      ]
    },
    {
      "cell_type": "code",
      "execution_count": null,
      "metadata": {
        "id": "pUIU3l3zlBVs",
        "colab": {
          "base_uri": "https://localhost:8080/"
        },
        "outputId": "d6dfbbca-e45e-4245-d218-c95082b66bf7"
      },
      "outputs": [
        {
          "output_type": "stream",
          "name": "stdout",
          "text": [
            "bigw j,len 2 19\n",
            "συνευςδιξοεανδνυπορ\n",
            "ὑπρ τη συνευςδιξοεανδνυπορ ποοδυπρας\n",
            "=====> i,j,pas2 0 0\n",
            "['συνευςδιξο', 'εανδνυπορ']\n",
            "['εανδ', 'νυπορ']\n",
            "=====> i,j,pas2 1 0\n",
            "==========> 1.9300822764635086 0\n",
            "26 19 36\n",
            "ὑπρ τη *συνευςδιξο εανδ νυπορ* ποοδυπρας\n",
            "bigw j,len 0 21\n",
            "καἀκόδετπτεισκεικύφις\n",
            "καἀκόδετπτεισκεικύφις κακλα καντκρας\n",
            "=====> i,j,pas2 0 0\n",
            "['καἀκ', 'όδετπτεισκεικύφις']\n",
            "['όδετπτεισκεικ', 'ύφις']\n",
            "['όδετπτεισκε', 'ικύφις']\n",
            "['όδετ', 'πτεισκεικύφις']\n",
            "=====> i,j,pas2 1 2\n",
            "=====> i,j,pas2 2 2\n",
            "==========> 1.6179803311824799 1\n",
            "21 21 36\n",
            "*καἀκ όδετπτεισκε ικύφις* κακλα καντκρας\n",
            "bigw j,len 1 21\n",
            "ἀκολουθεδεύρότάσκευηφ\n",
            "αὶπαις ἀκολουθεδεύρότάσκευηφ\n",
            "=====> i,j,pas2 0 0\n",
            "==========> 1.0805111825466156 0\n",
            "28 -1 28\n",
            "αὶπαις *ἀκολουθεδεύρότάσκευ ηφ*\n",
            "bigw j,len 1 20\n",
            "παλινοισειςταστρωμλς\n",
            "ἀλλραμένος παλινοισειςταστρωμλς\n",
            "=====> i,j,pas2 0 0\n",
            "['παλι', 'νοισειςταστρωμλς']\n",
            "['νοισειςτ', 'αστρωμλς']\n",
            "['νοισ', 'ειςταστρωμλς']\n",
            "=====> i,j,pas2 1 1\n",
            "['παλινοισ', 'ειςταστρωμλς']\n",
            "['ειςταστρ', 'ωμλς']\n",
            "['ειςτ', 'αστρωμλς']\n",
            "=====> i,j,pas2 2 2\n",
            "=====> i,j,pas2 3 2\n",
            "==========> 2.555324375629425 0\n",
            "31 -1 31\n",
            "ἀλλραμένος *παλι νοισ ειςταστρωμλς*\n",
            "bigw j,len 1 20\n",
            "πολλαχουκατειληφαμεν\n",
            "τα πολλαχουκατειληφαμεν πρω το ύμεν εκ\n",
            "=====> i,j,pas2 0 0\n",
            "['πολλα', 'χουκατειληφαμεν']\n",
            "['χουκατειληφα', 'μεν']\n",
            "['χουκατειλ', 'ηφαμεν']\n",
            "['χουκα', 'τειληφαμεν']\n",
            "=====> i,j,pas2 1 2\n",
            "['πολλαχου', 'κατειληφαμεν']\n",
            "['κατειληφα', 'μεν']\n",
            "['κατει', 'ληφαμεν']\n",
            "=====> i,j,pas2 2 3\n",
            "['πολλαχουκατε', 'ιληφαμεν']\n",
            "['ιληφα', 'μεν']\n",
            "=====> i,j,pas2 3 3\n",
            "==========> 2.1393807977437973 5\n",
            "23 20 38\n",
            "τα *πολλαχουκατε ιληφα μεν* πρω το ύμεν εκ\n",
            "bigw j,len 1 24\n",
            "κεθηλγαροιμυθυερηνευεται\n",
            "τοοικοήκύ κεθηλγαροιμυθυερηνευεται\n",
            "=====> i,j,pas2 0 0\n",
            "['κεθηλγ', 'αροιμυθυερηνευεται']\n",
            "['αροιμυθυερην', 'ευεται']\n",
            "['αροιμυθυερ', 'ηνευεται']\n",
            "['αροιμυ', 'θυερηνευεται']\n",
            "=====> i,j,pas2 1 2\n",
            "['κεθηλγαρ', 'οιμυθυερηνευεται']\n",
            "['οιμυθυερηνευ', 'εται']\n",
            "['οιμυθυερη', 'νευεται']\n",
            "['οιμυθυε', 'ρηνευεται']\n",
            "=====> i,j,pas2 2 4\n",
            "['κεθηλγαροιμυ', 'θυερηνευεται']\n",
            "['θυερηνευ', 'εται']\n",
            "['θυερη', 'νευεται']\n",
            "=====> i,j,pas2 3 5\n",
            "['κεθηλγαροιμυθυερη', 'νευεται']\n",
            "['νευε', 'ται']\n",
            "=====> i,j,pas2 4 5\n",
            "==========> 2.2389763593673706 5\n",
            "34 -1 34\n",
            "τοοικοήκύ *κεθηλγαρ οιμυθυερηνευ εται*\n",
            "bigw j,len 1 18\n",
            "πλειοσιμαγουτητηςν\n",
            "ἀλλοῖσιτουτ᾽ πλειοσιμαγουτητηςν\n",
            "=====> i,j,pas2 0 0\n",
            "['πλει', 'οσιμαγουτητηςν']\n",
            "['οσιμαγου', 'τητηςν']\n",
            "['οσιμαγο', 'υτητηςν']\n",
            "=====> i,j,pas2 1 1\n",
            "['πλειοσιμ', 'αγουτητηςν']\n",
            "['αγου', 'τητηςν']\n",
            "=====> i,j,pas2 2 1\n",
            "==========> 2.5469107031822205 0\n",
            "31 -1 31\n",
            "ἀλλοῖσιτουτ᾽ *πλει οσιμαγο υτητηςν*\n",
            "bigw j,len 2 19\n",
            "κηλίσιστιόμενὑπερηε\n",
            "τῶν πας κηλίσιστιόμενὑπερηε\n",
            "=====> i,j,pas2 0 0\n",
            "['κηλίσιστιόμ', 'ενὑπερηε']\n",
            "['ενὑπ', 'ερηε']\n",
            "=====> i,j,pas2 1 0\n",
            "['κηλίσιστιόμε', 'νὑπερηε']\n",
            "['νὑπερ', 'ηε']\n",
            "=====> i,j,pas2 2 0\n",
            "==========> 1.3814340829849243 0\n",
            "27 -1 27\n",
            "τῶν πας *κηλίσιστιόμ ενὑπ ερηε*\n",
            "bigw j,len 5 18\n",
            "γήςγεροςςεἐκεκραξα\n",
            "έτο τω νερα τῷη τῆς γήςγεροςςεἐκεκραξα πειδὴ γάρπο\n",
            "=====> i,j,pas2 0 0\n",
            "['γήςγερ', 'οςςεἐκεκραξα']\n",
            "['οςςεἐκεκ', 'ραξα']\n",
            "['οςςε', 'ἐκεκραξα']\n",
            "=====> i,j,pas2 1 1\n",
            "['γήςγεροςςε', 'ἐκεκραξα']\n",
            "['ἐκεκρα', 'ξα']\n",
            "=====> i,j,pas2 2 1\n",
            "==========> 2.430905818939209 1\n",
            "38 18 50\n",
            "έτο τω νερα τῷη τῆς *γήςγερ οςςεἐκεκ ραξα* πειδὴ γάρπο\n",
            "bigw j,len 3 18\n",
            "ἐπικουρίαςἀπελαυσα\n",
            "εαι τή σσης ἐπικουρίαςἀπελαυσα βτῶν πολεμιων ὑπερ τῦο\n",
            "=====> i,j,pas2 0 0\n",
            "['ἐπικουρία', 'ςἀπελαυσα']\n",
            "['ςἀπελ', 'αυσα']\n",
            "=====> i,j,pas2 1 0\n",
            "==========> 2.0778279900550842 0\n",
            "30 18 53\n",
            "εαι τή σσης *ἐπικουρία ςἀπελ αυσα* βτῶν πολεμιων ὑπερ τῦο\n",
            "bigw j,len 2 18\n",
            "ὅτιεύδθεειεηκονεας\n",
            "κῶς τεθείκεντ ὅτιεύδθεειεηκονεας τάν ευάσκβόγ\n",
            "=====> i,j,pas2 0 0\n",
            "['ὅτιεύδ', 'θεειεηκονεας']\n",
            "['θεειεηκο', 'νεας']\n",
            "=====> i,j,pas2 1 0\n",
            "==========> 1.8264451771974564 0\n",
            "32 18 45\n",
            "κῶς τεθείκεντ *ὅτιεύδ θεειεηκο νεας* τάν ευάσκβόγ\n",
            "bigw j,len 1 26\n",
            "κληὴροομιαντοιεφοβουμένοις\n",
            "εδωκαὶ κληὴροομιαντοιεφοβουμένοις τὸ ς ιουταξογτ\n",
            "=====> i,j,pas2 0 0\n",
            "['κληὴ', 'ροομιαντοιεφοβουμένοις']\n",
            "['ροομιαντοιεφοβουμέν', 'οις']\n",
            "['ροομιαντοιεφο', 'βουμένοις']\n",
            "['ροομιαντο', 'ιεφοβουμένοις']\n",
            "['ροομιαν', 'τοιεφοβουμένοις']\n",
            "=====> i,j,pas2 1 3\n",
            "['κληὴροομιαντ', 'οιεφοβουμένοις']\n",
            "['οιεφοβου', 'μένοις']\n",
            "['οιεφ', 'οβουμένοις']\n",
            "=====> i,j,pas2 2 4\n",
            "['κληὴροομιαντοιεφοβ', 'ουμένοις']\n",
            "['ουμέ', 'νοις']\n",
            "=====> i,j,pas2 3 4\n",
            "==========> 2.339772939682007 2\n",
            "33 26 48\n",
            "εδωκαὶ *κληὴ ροομιαντοιεφο βουμένοις* τὸ ς ιουταξογτ\n",
            "bigw j,len 1 19\n",
            "εντωμεσωστρεφομενων\n",
            "των εντωμεσωστρεφομενων και περιγενεσθαι\n",
            "=====> i,j,pas2 0 0\n",
            "['εντω', 'μεσωστρεφομενων']\n",
            "['μεσωστρεφομε', 'νων']\n",
            "['μεσωστρε', 'φομενων']\n",
            "=====> i,j,pas2 1 1\n",
            "=====> i,j,pas2 2 1\n",
            "==========> 2.462713837623596 1\n",
            "23 19 40\n",
            "των *εντω μεσωστρεφομε νων* και περιγενεσθαι\n",
            "bigw j,len 0 20\n",
            "σαράκονταστεφανωθείη\n",
            "σαράκονταστεφανωθείη μὲν δέσποτα· μη λείψη τῷ ἀριθ\n",
            "=====> i,j,pas2 0 0\n",
            "['σαράκοντα', 'στεφανωθείη']\n",
            "['στεφανωθ', 'είη']\n",
            "['στεφαν', 'ωθείη']\n",
            "=====> i,j,pas2 1 1\n",
            "==========> 2.791164219379425 1\n",
            "20 20 50\n",
            "*σαράκοντα στεφανωθ είη* μὲν δέσποτα· μη λείψη τῷ ἀριθ\n",
            "bigw j,len 5 22\n",
            "μαρτύρωνπεπιστευμένος.\n",
            "ὁ γὰρ τὴν φυλακὴν τῶν μαρτύρωνπεπιστευμένος. ἐγγύθεν\n",
            "=====> i,j,pas2 0 0\n",
            "['μαρτύρω', 'νπεπιστευμένος.']\n",
            "['νπεπιστευμέν', 'ος.']\n",
            "['νπεπιστευμ', 'ένος.']\n",
            "=====> i,j,pas2 1 1\n",
            "['μαρτύρων', 'πεπιστευμένος.']\n",
            "['πεπιστευμ', 'ένος.']\n",
            "['πεπιστε', 'υμένος.']\n",
            "=====> i,j,pas2 2 2\n",
            "==========> 2.63405841588974 2\n",
            "44 22 52\n",
            "ὁ γὰρ τὴν φυλακὴν τῶν *μαρτύρων πεπιστε υμένος.* ἐγγύθεν\n",
            "cer:    0.21793041256481552\n"
          ]
        }
      ],
      "source": [
        "BWS=R0.apply(big_word_splitter)\n",
        "print('cer:   ', pywer.cer(R0,BWS))"
      ]
    },
    {
      "cell_type": "markdown",
      "metadata": {
        "id": "gdhRSdpwUEwX"
      },
      "source": [
        "\n",
        "# Submissions::\n"
      ]
    },
    {
      "cell_type": "code",
      "execution_count": null,
      "metadata": {
        "id": "7c9klPL0FqGD"
      },
      "outputs": [],
      "source": [
        "submission = pd.DataFrame(zip(test_df.IMAGE_PATH, BWS), columns=[\"ImageID\", \"Transcriptions\"])\n",
        "#submission"
      ]
    },
    {
      "cell_type": "code",
      "execution_count": null,
      "metadata": {
        "id": "GvA-1BadIcN3"
      },
      "outputs": [],
      "source": [
        "submission.to_csv(\"submission.csv\", index=False)"
      ]
    },
    {
      "cell_type": "code",
      "execution_count": null,
      "metadata": {
        "id": "IkOlr_pyIlU_",
        "colab": {
          "base_uri": "https://localhost:8080/",
          "height": 335,
          "referenced_widgets": [
            "7dc96e13f6594fd5a8d6fe279f36672c",
            "e5140793bde8455e81936bcc94cee46d"
          ]
        },
        "outputId": "f62637da-b322-4379-f890-440835d8f123"
      },
      "outputs": [
        {
          "output_type": "display_data",
          "data": {
            "text/plain": [
              "Output()"
            ],
            "application/vnd.jupyter.widget-view+json": {
              "version_major": 2,
              "version_minor": 0,
              "model_id": "7dc96e13f6594fd5a8d6fe279f36672c"
            }
          },
          "metadata": {}
        },
        {
          "output_type": "display_data",
          "data": {
            "text/plain": [
              ""
            ],
            "text/html": [
              "<pre style=\"white-space:pre;overflow-x:auto;line-height:normal;font-family:Menlo,'DejaVu Sans Mono',consolas,'Courier New',monospace\"></pre>\n"
            ]
          },
          "metadata": {}
        },
        {
          "output_type": "display_data",
          "data": {
            "text/plain": [
              "\n"
            ],
            "text/html": [
              "<pre style=\"white-space:pre;overflow-x:auto;line-height:normal;font-family:Menlo,'DejaVu Sans Mono',consolas,'Courier New',monospace\">\n",
              "</pre>\n"
            ]
          },
          "metadata": {}
        },
        {
          "output_type": "display_data",
          "data": {
            "text/plain": [
              "                                    ╭─────────────────────────╮                                     \n",
              "                                    │ \u001b[1mSuccessfully submitted!\u001b[0m │                                     \n",
              "                                    ╰─────────────────────────╯                                     \n"
            ],
            "text/html": [
              "<pre style=\"white-space:pre;overflow-x:auto;line-height:normal;font-family:Menlo,'DejaVu Sans Mono',consolas,'Courier New',monospace\">                                    ╭─────────────────────────╮                                     \n",
              "                                    │ <span style=\"font-weight: bold\">Successfully submitted!</span> │                                     \n",
              "                                    ╰─────────────────────────╯                                     \n",
              "</pre>\n"
            ]
          },
          "metadata": {}
        },
        {
          "output_type": "display_data",
          "data": {
            "text/plain": [
              "\u001b[3m                                          Important links                                           \u001b[0m\n",
              "┌──────────────────┬───────────────────────────────────────────────────────────────────────────────┐\n",
              "│  This submission │ https://www.aicrowd.com/challenges/htrec-2022/submissions/190719              │\n",
              "│                  │                                                                               │\n",
              "│  All submissions │ https://www.aicrowd.com/challenges/htrec-2022/submissions?my_submissions=true │\n",
              "│                  │                                                                               │\n",
              "│      Leaderboard │ https://www.aicrowd.com/challenges/htrec-2022/leaderboards                    │\n",
              "│                  │                                                                               │\n",
              "│ Discussion forum │ https://discourse.aicrowd.com/c/htrec-2022                                    │\n",
              "│                  │                                                                               │\n",
              "│   Challenge page │ https://www.aicrowd.com/challenges/htrec-2022                                 │\n",
              "└──────────────────┴───────────────────────────────────────────────────────────────────────────────┘\n"
            ],
            "text/html": [
              "<pre style=\"white-space:pre;overflow-x:auto;line-height:normal;font-family:Menlo,'DejaVu Sans Mono',consolas,'Courier New',monospace\"><span style=\"font-style: italic\">                                          Important links                                           </span>\n",
              "┌──────────────────┬───────────────────────────────────────────────────────────────────────────────┐\n",
              "│  This submission │ https://www.aicrowd.com/challenges/htrec-2022/submissions/190719              │\n",
              "│                  │                                                                               │\n",
              "│  All submissions │ https://www.aicrowd.com/challenges/htrec-2022/submissions?my_submissions=true │\n",
              "│                  │                                                                               │\n",
              "│      Leaderboard │ https://www.aicrowd.com/challenges/htrec-2022/leaderboards                    │\n",
              "│                  │                                                                               │\n",
              "│ Discussion forum │ https://discourse.aicrowd.com/c/htrec-2022                                    │\n",
              "│                  │                                                                               │\n",
              "│   Challenge page │ https://www.aicrowd.com/challenges/htrec-2022                                 │\n",
              "└──────────────────┴───────────────────────────────────────────────────────────────────────────────┘\n",
              "</pre>\n"
            ]
          },
          "metadata": {}
        },
        {
          "output_type": "stream",
          "name": "stdout",
          "text": [
            "{'submission_id': 190719, 'created_at': '2022-06-26T19:12:30.109Z'}\n"
          ]
        }
      ],
      "source": [
        "#%aicrowd submission create -c htrec-2022 -f submission.csv"
      ]
    }
  ],
  "metadata": {
    "colab": {
      "collapsed_sections": [],
      "name": "HTREC2022 SuperPeitho WordSplitter [12]",
      "provenance": [],
      "include_colab_link": true
    },
    "kernelspec": {
      "display_name": "Python 3",
      "name": "python3"
    },
    "language_info": {
      "name": "python"
    },
    "widgets": {
      "application/vnd.jupyter.widget-state+json": {
        "a522022cd4c54cedb846f66bac119e3e": {
          "model_module": "@jupyter-widgets/controls",
          "model_name": "HBoxModel",
          "model_module_version": "1.5.0",
          "state": {
            "_dom_classes": [],
            "_model_module": "@jupyter-widgets/controls",
            "_model_module_version": "1.5.0",
            "_model_name": "HBoxModel",
            "_view_count": null,
            "_view_module": "@jupyter-widgets/controls",
            "_view_module_version": "1.5.0",
            "_view_name": "HBoxView",
            "box_style": "",
            "children": [
              "IPY_MODEL_59d2e41d3ccc4816866713974f7b16c8",
              "IPY_MODEL_ae6b0c9249c54a59aca63356c86dd123",
              "IPY_MODEL_cbf7215d3a4040188595cb04a582af56"
            ],
            "layout": "IPY_MODEL_f2108c1d5cad4b4c83f4952891af7552"
          }
        },
        "59d2e41d3ccc4816866713974f7b16c8": {
          "model_module": "@jupyter-widgets/controls",
          "model_name": "HTMLModel",
          "model_module_version": "1.5.0",
          "state": {
            "_dom_classes": [],
            "_model_module": "@jupyter-widgets/controls",
            "_model_module_version": "1.5.0",
            "_model_name": "HTMLModel",
            "_view_count": null,
            "_view_module": "@jupyter-widgets/controls",
            "_view_module_version": "1.5.0",
            "_view_name": "HTMLView",
            "description": "",
            "description_tooltip": null,
            "layout": "IPY_MODEL_8ae1d28ae6c648958c34c7d68f84bde7",
            "placeholder": "​",
            "style": "IPY_MODEL_6b03d44817dc4683a9a537f1e52a7040",
            "value": "test.csv: 100%"
          }
        },
        "ae6b0c9249c54a59aca63356c86dd123": {
          "model_module": "@jupyter-widgets/controls",
          "model_name": "FloatProgressModel",
          "model_module_version": "1.5.0",
          "state": {
            "_dom_classes": [],
            "_model_module": "@jupyter-widgets/controls",
            "_model_module_version": "1.5.0",
            "_model_name": "FloatProgressModel",
            "_view_count": null,
            "_view_module": "@jupyter-widgets/controls",
            "_view_module_version": "1.5.0",
            "_view_name": "ProgressView",
            "bar_style": "success",
            "description": "",
            "description_tooltip": null,
            "layout": "IPY_MODEL_041655729ddf473a906bf1698d135898",
            "max": 45547,
            "min": 0,
            "orientation": "horizontal",
            "style": "IPY_MODEL_282d1d0ead10474996054d68cc39939d",
            "value": 45547
          }
        },
        "cbf7215d3a4040188595cb04a582af56": {
          "model_module": "@jupyter-widgets/controls",
          "model_name": "HTMLModel",
          "model_module_version": "1.5.0",
          "state": {
            "_dom_classes": [],
            "_model_module": "@jupyter-widgets/controls",
            "_model_module_version": "1.5.0",
            "_model_name": "HTMLModel",
            "_view_count": null,
            "_view_module": "@jupyter-widgets/controls",
            "_view_module_version": "1.5.0",
            "_view_name": "HTMLView",
            "description": "",
            "description_tooltip": null,
            "layout": "IPY_MODEL_ce45aa1a7bcf4912a8b8f5fc4d874589",
            "placeholder": "​",
            "style": "IPY_MODEL_05cdbd7321164727a6bcb7e1033dedfe",
            "value": " 45.5k/45.5k [00:00&lt;00:00, 527kB/s]"
          }
        },
        "f2108c1d5cad4b4c83f4952891af7552": {
          "model_module": "@jupyter-widgets/base",
          "model_name": "LayoutModel",
          "model_module_version": "1.2.0",
          "state": {
            "_model_module": "@jupyter-widgets/base",
            "_model_module_version": "1.2.0",
            "_model_name": "LayoutModel",
            "_view_count": null,
            "_view_module": "@jupyter-widgets/base",
            "_view_module_version": "1.2.0",
            "_view_name": "LayoutView",
            "align_content": null,
            "align_items": null,
            "align_self": null,
            "border": null,
            "bottom": null,
            "display": null,
            "flex": null,
            "flex_flow": null,
            "grid_area": null,
            "grid_auto_columns": null,
            "grid_auto_flow": null,
            "grid_auto_rows": null,
            "grid_column": null,
            "grid_gap": null,
            "grid_row": null,
            "grid_template_areas": null,
            "grid_template_columns": null,
            "grid_template_rows": null,
            "height": null,
            "justify_content": null,
            "justify_items": null,
            "left": null,
            "margin": null,
            "max_height": null,
            "max_width": null,
            "min_height": null,
            "min_width": null,
            "object_fit": null,
            "object_position": null,
            "order": null,
            "overflow": null,
            "overflow_x": null,
            "overflow_y": null,
            "padding": null,
            "right": null,
            "top": null,
            "visibility": null,
            "width": null
          }
        },
        "8ae1d28ae6c648958c34c7d68f84bde7": {
          "model_module": "@jupyter-widgets/base",
          "model_name": "LayoutModel",
          "model_module_version": "1.2.0",
          "state": {
            "_model_module": "@jupyter-widgets/base",
            "_model_module_version": "1.2.0",
            "_model_name": "LayoutModel",
            "_view_count": null,
            "_view_module": "@jupyter-widgets/base",
            "_view_module_version": "1.2.0",
            "_view_name": "LayoutView",
            "align_content": null,
            "align_items": null,
            "align_self": null,
            "border": null,
            "bottom": null,
            "display": null,
            "flex": null,
            "flex_flow": null,
            "grid_area": null,
            "grid_auto_columns": null,
            "grid_auto_flow": null,
            "grid_auto_rows": null,
            "grid_column": null,
            "grid_gap": null,
            "grid_row": null,
            "grid_template_areas": null,
            "grid_template_columns": null,
            "grid_template_rows": null,
            "height": null,
            "justify_content": null,
            "justify_items": null,
            "left": null,
            "margin": null,
            "max_height": null,
            "max_width": null,
            "min_height": null,
            "min_width": null,
            "object_fit": null,
            "object_position": null,
            "order": null,
            "overflow": null,
            "overflow_x": null,
            "overflow_y": null,
            "padding": null,
            "right": null,
            "top": null,
            "visibility": null,
            "width": null
          }
        },
        "6b03d44817dc4683a9a537f1e52a7040": {
          "model_module": "@jupyter-widgets/controls",
          "model_name": "DescriptionStyleModel",
          "model_module_version": "1.5.0",
          "state": {
            "_model_module": "@jupyter-widgets/controls",
            "_model_module_version": "1.5.0",
            "_model_name": "DescriptionStyleModel",
            "_view_count": null,
            "_view_module": "@jupyter-widgets/base",
            "_view_module_version": "1.2.0",
            "_view_name": "StyleView",
            "description_width": ""
          }
        },
        "041655729ddf473a906bf1698d135898": {
          "model_module": "@jupyter-widgets/base",
          "model_name": "LayoutModel",
          "model_module_version": "1.2.0",
          "state": {
            "_model_module": "@jupyter-widgets/base",
            "_model_module_version": "1.2.0",
            "_model_name": "LayoutModel",
            "_view_count": null,
            "_view_module": "@jupyter-widgets/base",
            "_view_module_version": "1.2.0",
            "_view_name": "LayoutView",
            "align_content": null,
            "align_items": null,
            "align_self": null,
            "border": null,
            "bottom": null,
            "display": null,
            "flex": null,
            "flex_flow": null,
            "grid_area": null,
            "grid_auto_columns": null,
            "grid_auto_flow": null,
            "grid_auto_rows": null,
            "grid_column": null,
            "grid_gap": null,
            "grid_row": null,
            "grid_template_areas": null,
            "grid_template_columns": null,
            "grid_template_rows": null,
            "height": null,
            "justify_content": null,
            "justify_items": null,
            "left": null,
            "margin": null,
            "max_height": null,
            "max_width": null,
            "min_height": null,
            "min_width": null,
            "object_fit": null,
            "object_position": null,
            "order": null,
            "overflow": null,
            "overflow_x": null,
            "overflow_y": null,
            "padding": null,
            "right": null,
            "top": null,
            "visibility": null,
            "width": null
          }
        },
        "282d1d0ead10474996054d68cc39939d": {
          "model_module": "@jupyter-widgets/controls",
          "model_name": "ProgressStyleModel",
          "model_module_version": "1.5.0",
          "state": {
            "_model_module": "@jupyter-widgets/controls",
            "_model_module_version": "1.5.0",
            "_model_name": "ProgressStyleModel",
            "_view_count": null,
            "_view_module": "@jupyter-widgets/base",
            "_view_module_version": "1.2.0",
            "_view_name": "StyleView",
            "bar_color": null,
            "description_width": ""
          }
        },
        "ce45aa1a7bcf4912a8b8f5fc4d874589": {
          "model_module": "@jupyter-widgets/base",
          "model_name": "LayoutModel",
          "model_module_version": "1.2.0",
          "state": {
            "_model_module": "@jupyter-widgets/base",
            "_model_module_version": "1.2.0",
            "_model_name": "LayoutModel",
            "_view_count": null,
            "_view_module": "@jupyter-widgets/base",
            "_view_module_version": "1.2.0",
            "_view_name": "LayoutView",
            "align_content": null,
            "align_items": null,
            "align_self": null,
            "border": null,
            "bottom": null,
            "display": null,
            "flex": null,
            "flex_flow": null,
            "grid_area": null,
            "grid_auto_columns": null,
            "grid_auto_flow": null,
            "grid_auto_rows": null,
            "grid_column": null,
            "grid_gap": null,
            "grid_row": null,
            "grid_template_areas": null,
            "grid_template_columns": null,
            "grid_template_rows": null,
            "height": null,
            "justify_content": null,
            "justify_items": null,
            "left": null,
            "margin": null,
            "max_height": null,
            "max_width": null,
            "min_height": null,
            "min_width": null,
            "object_fit": null,
            "object_position": null,
            "order": null,
            "overflow": null,
            "overflow_x": null,
            "overflow_y": null,
            "padding": null,
            "right": null,
            "top": null,
            "visibility": null,
            "width": null
          }
        },
        "05cdbd7321164727a6bcb7e1033dedfe": {
          "model_module": "@jupyter-widgets/controls",
          "model_name": "DescriptionStyleModel",
          "model_module_version": "1.5.0",
          "state": {
            "_model_module": "@jupyter-widgets/controls",
            "_model_module_version": "1.5.0",
            "_model_name": "DescriptionStyleModel",
            "_view_count": null,
            "_view_module": "@jupyter-widgets/base",
            "_view_module_version": "1.2.0",
            "_view_name": "StyleView",
            "description_width": ""
          }
        },
        "30104b21deb14d28b1df51accd871564": {
          "model_module": "@jupyter-widgets/controls",
          "model_name": "HBoxModel",
          "model_module_version": "1.5.0",
          "state": {
            "_dom_classes": [],
            "_model_module": "@jupyter-widgets/controls",
            "_model_module_version": "1.5.0",
            "_model_name": "HBoxModel",
            "_view_count": null,
            "_view_module": "@jupyter-widgets/controls",
            "_view_module_version": "1.5.0",
            "_view_name": "HBoxView",
            "box_style": "",
            "children": [
              "IPY_MODEL_f44a440ea24e46578480639cdca39da5",
              "IPY_MODEL_6b8d5ffc4f7f4b9a8256f359f2006f11",
              "IPY_MODEL_09c8fe5f24f24b37961599ad608f921a"
            ],
            "layout": "IPY_MODEL_5b70cdce49f5473ba82552471c3c8564"
          }
        },
        "f44a440ea24e46578480639cdca39da5": {
          "model_module": "@jupyter-widgets/controls",
          "model_name": "HTMLModel",
          "model_module_version": "1.5.0",
          "state": {
            "_dom_classes": [],
            "_model_module": "@jupyter-widgets/controls",
            "_model_module_version": "1.5.0",
            "_model_name": "HTMLModel",
            "_view_count": null,
            "_view_module": "@jupyter-widgets/controls",
            "_view_module_version": "1.5.0",
            "_view_name": "HTMLView",
            "description": "",
            "description_tooltip": null,
            "layout": "IPY_MODEL_de0e5d65f1814d53932a641143136ced",
            "placeholder": "​",
            "style": "IPY_MODEL_e5fc2acc216e4b92bd9850e0daa39011",
            "value": "train.csv: 100%"
          }
        },
        "6b8d5ffc4f7f4b9a8256f359f2006f11": {
          "model_module": "@jupyter-widgets/controls",
          "model_name": "FloatProgressModel",
          "model_module_version": "1.5.0",
          "state": {
            "_dom_classes": [],
            "_model_module": "@jupyter-widgets/controls",
            "_model_module_version": "1.5.0",
            "_model_name": "FloatProgressModel",
            "_view_count": null,
            "_view_module": "@jupyter-widgets/controls",
            "_view_module_version": "1.5.0",
            "_view_name": "ProgressView",
            "bar_style": "success",
            "description": "",
            "description_tooltip": null,
            "layout": "IPY_MODEL_ce658f6bc80744da93152b922029c4f5",
            "max": 395041,
            "min": 0,
            "orientation": "horizontal",
            "style": "IPY_MODEL_78faf70ced744ddfa3fbd801f1215d63",
            "value": 395041
          }
        },
        "09c8fe5f24f24b37961599ad608f921a": {
          "model_module": "@jupyter-widgets/controls",
          "model_name": "HTMLModel",
          "model_module_version": "1.5.0",
          "state": {
            "_dom_classes": [],
            "_model_module": "@jupyter-widgets/controls",
            "_model_module_version": "1.5.0",
            "_model_name": "HTMLModel",
            "_view_count": null,
            "_view_module": "@jupyter-widgets/controls",
            "_view_module_version": "1.5.0",
            "_view_name": "HTMLView",
            "description": "",
            "description_tooltip": null,
            "layout": "IPY_MODEL_07d888f751d94d5cac730a418ba975c9",
            "placeholder": "​",
            "style": "IPY_MODEL_9a43109729f94563805a5feebbdc20a4",
            "value": " 395k/395k [00:00&lt;00:00, 1.27MB/s]"
          }
        },
        "5b70cdce49f5473ba82552471c3c8564": {
          "model_module": "@jupyter-widgets/base",
          "model_name": "LayoutModel",
          "model_module_version": "1.2.0",
          "state": {
            "_model_module": "@jupyter-widgets/base",
            "_model_module_version": "1.2.0",
            "_model_name": "LayoutModel",
            "_view_count": null,
            "_view_module": "@jupyter-widgets/base",
            "_view_module_version": "1.2.0",
            "_view_name": "LayoutView",
            "align_content": null,
            "align_items": null,
            "align_self": null,
            "border": null,
            "bottom": null,
            "display": null,
            "flex": null,
            "flex_flow": null,
            "grid_area": null,
            "grid_auto_columns": null,
            "grid_auto_flow": null,
            "grid_auto_rows": null,
            "grid_column": null,
            "grid_gap": null,
            "grid_row": null,
            "grid_template_areas": null,
            "grid_template_columns": null,
            "grid_template_rows": null,
            "height": null,
            "justify_content": null,
            "justify_items": null,
            "left": null,
            "margin": null,
            "max_height": null,
            "max_width": null,
            "min_height": null,
            "min_width": null,
            "object_fit": null,
            "object_position": null,
            "order": null,
            "overflow": null,
            "overflow_x": null,
            "overflow_y": null,
            "padding": null,
            "right": null,
            "top": null,
            "visibility": null,
            "width": null
          }
        },
        "de0e5d65f1814d53932a641143136ced": {
          "model_module": "@jupyter-widgets/base",
          "model_name": "LayoutModel",
          "model_module_version": "1.2.0",
          "state": {
            "_model_module": "@jupyter-widgets/base",
            "_model_module_version": "1.2.0",
            "_model_name": "LayoutModel",
            "_view_count": null,
            "_view_module": "@jupyter-widgets/base",
            "_view_module_version": "1.2.0",
            "_view_name": "LayoutView",
            "align_content": null,
            "align_items": null,
            "align_self": null,
            "border": null,
            "bottom": null,
            "display": null,
            "flex": null,
            "flex_flow": null,
            "grid_area": null,
            "grid_auto_columns": null,
            "grid_auto_flow": null,
            "grid_auto_rows": null,
            "grid_column": null,
            "grid_gap": null,
            "grid_row": null,
            "grid_template_areas": null,
            "grid_template_columns": null,
            "grid_template_rows": null,
            "height": null,
            "justify_content": null,
            "justify_items": null,
            "left": null,
            "margin": null,
            "max_height": null,
            "max_width": null,
            "min_height": null,
            "min_width": null,
            "object_fit": null,
            "object_position": null,
            "order": null,
            "overflow": null,
            "overflow_x": null,
            "overflow_y": null,
            "padding": null,
            "right": null,
            "top": null,
            "visibility": null,
            "width": null
          }
        },
        "e5fc2acc216e4b92bd9850e0daa39011": {
          "model_module": "@jupyter-widgets/controls",
          "model_name": "DescriptionStyleModel",
          "model_module_version": "1.5.0",
          "state": {
            "_model_module": "@jupyter-widgets/controls",
            "_model_module_version": "1.5.0",
            "_model_name": "DescriptionStyleModel",
            "_view_count": null,
            "_view_module": "@jupyter-widgets/base",
            "_view_module_version": "1.2.0",
            "_view_name": "StyleView",
            "description_width": ""
          }
        },
        "ce658f6bc80744da93152b922029c4f5": {
          "model_module": "@jupyter-widgets/base",
          "model_name": "LayoutModel",
          "model_module_version": "1.2.0",
          "state": {
            "_model_module": "@jupyter-widgets/base",
            "_model_module_version": "1.2.0",
            "_model_name": "LayoutModel",
            "_view_count": null,
            "_view_module": "@jupyter-widgets/base",
            "_view_module_version": "1.2.0",
            "_view_name": "LayoutView",
            "align_content": null,
            "align_items": null,
            "align_self": null,
            "border": null,
            "bottom": null,
            "display": null,
            "flex": null,
            "flex_flow": null,
            "grid_area": null,
            "grid_auto_columns": null,
            "grid_auto_flow": null,
            "grid_auto_rows": null,
            "grid_column": null,
            "grid_gap": null,
            "grid_row": null,
            "grid_template_areas": null,
            "grid_template_columns": null,
            "grid_template_rows": null,
            "height": null,
            "justify_content": null,
            "justify_items": null,
            "left": null,
            "margin": null,
            "max_height": null,
            "max_width": null,
            "min_height": null,
            "min_width": null,
            "object_fit": null,
            "object_position": null,
            "order": null,
            "overflow": null,
            "overflow_x": null,
            "overflow_y": null,
            "padding": null,
            "right": null,
            "top": null,
            "visibility": null,
            "width": null
          }
        },
        "78faf70ced744ddfa3fbd801f1215d63": {
          "model_module": "@jupyter-widgets/controls",
          "model_name": "ProgressStyleModel",
          "model_module_version": "1.5.0",
          "state": {
            "_model_module": "@jupyter-widgets/controls",
            "_model_module_version": "1.5.0",
            "_model_name": "ProgressStyleModel",
            "_view_count": null,
            "_view_module": "@jupyter-widgets/base",
            "_view_module_version": "1.2.0",
            "_view_name": "StyleView",
            "bar_color": null,
            "description_width": ""
          }
        },
        "07d888f751d94d5cac730a418ba975c9": {
          "model_module": "@jupyter-widgets/base",
          "model_name": "LayoutModel",
          "model_module_version": "1.2.0",
          "state": {
            "_model_module": "@jupyter-widgets/base",
            "_model_module_version": "1.2.0",
            "_model_name": "LayoutModel",
            "_view_count": null,
            "_view_module": "@jupyter-widgets/base",
            "_view_module_version": "1.2.0",
            "_view_name": "LayoutView",
            "align_content": null,
            "align_items": null,
            "align_self": null,
            "border": null,
            "bottom": null,
            "display": null,
            "flex": null,
            "flex_flow": null,
            "grid_area": null,
            "grid_auto_columns": null,
            "grid_auto_flow": null,
            "grid_auto_rows": null,
            "grid_column": null,
            "grid_gap": null,
            "grid_row": null,
            "grid_template_areas": null,
            "grid_template_columns": null,
            "grid_template_rows": null,
            "height": null,
            "justify_content": null,
            "justify_items": null,
            "left": null,
            "margin": null,
            "max_height": null,
            "max_width": null,
            "min_height": null,
            "min_width": null,
            "object_fit": null,
            "object_position": null,
            "order": null,
            "overflow": null,
            "overflow_x": null,
            "overflow_y": null,
            "padding": null,
            "right": null,
            "top": null,
            "visibility": null,
            "width": null
          }
        },
        "9a43109729f94563805a5feebbdc20a4": {
          "model_module": "@jupyter-widgets/controls",
          "model_name": "DescriptionStyleModel",
          "model_module_version": "1.5.0",
          "state": {
            "_model_module": "@jupyter-widgets/controls",
            "_model_module_version": "1.5.0",
            "_model_name": "DescriptionStyleModel",
            "_view_count": null,
            "_view_module": "@jupyter-widgets/base",
            "_view_module_version": "1.2.0",
            "_view_name": "StyleView",
            "description_width": ""
          }
        },
        "7dc96e13f6594fd5a8d6fe279f36672c": {
          "model_module": "@jupyter-widgets/output",
          "model_name": "OutputModel",
          "model_module_version": "1.0.0",
          "state": {
            "_dom_classes": [],
            "_model_module": "@jupyter-widgets/output",
            "_model_module_version": "1.0.0",
            "_model_name": "OutputModel",
            "_view_count": null,
            "_view_module": "@jupyter-widgets/output",
            "_view_module_version": "1.0.0",
            "_view_name": "OutputView",
            "layout": "IPY_MODEL_e5140793bde8455e81936bcc94cee46d",
            "msg_id": "",
            "outputs": [
              {
                "output_type": "display_data",
                "data": {
                  "text/plain": "\u001b[1;34msubmission.csv\u001b[0m \u001b[38;2;114;156;31m━━━━━━━━━━━━━━━━━━━━━━━━━━━━━━━━━\u001b[0m \u001b[35m100.0%\u001b[0m • \u001b[32m45.3/43.7 KB\u001b[0m • \u001b[31m210.5 kB/s\u001b[0m • \u001b[36m0:00:00\u001b[0m\n",
                  "text/html": "<pre style=\"white-space:pre;overflow-x:auto;line-height:normal;font-family:Menlo,'DejaVu Sans Mono',consolas,'Courier New',monospace\"><span style=\"color: #000080; text-decoration-color: #000080; font-weight: bold\">submission.csv</span> <span style=\"color: #729c1f; text-decoration-color: #729c1f\">━━━━━━━━━━━━━━━━━━━━━━━━━━━━━━━━━</span> <span style=\"color: #800080; text-decoration-color: #800080\">100.0%</span> • <span style=\"color: #008000; text-decoration-color: #008000\">45.3/43.7 KB</span> • <span style=\"color: #800000; text-decoration-color: #800000\">210.5 kB/s</span> • <span style=\"color: #008080; text-decoration-color: #008080\">0:00:00</span>\n</pre>\n"
                },
                "metadata": {}
              }
            ]
          }
        },
        "e5140793bde8455e81936bcc94cee46d": {
          "model_module": "@jupyter-widgets/base",
          "model_name": "LayoutModel",
          "model_module_version": "1.2.0",
          "state": {
            "_model_module": "@jupyter-widgets/base",
            "_model_module_version": "1.2.0",
            "_model_name": "LayoutModel",
            "_view_count": null,
            "_view_module": "@jupyter-widgets/base",
            "_view_module_version": "1.2.0",
            "_view_name": "LayoutView",
            "align_content": null,
            "align_items": null,
            "align_self": null,
            "border": null,
            "bottom": null,
            "display": null,
            "flex": null,
            "flex_flow": null,
            "grid_area": null,
            "grid_auto_columns": null,
            "grid_auto_flow": null,
            "grid_auto_rows": null,
            "grid_column": null,
            "grid_gap": null,
            "grid_row": null,
            "grid_template_areas": null,
            "grid_template_columns": null,
            "grid_template_rows": null,
            "height": null,
            "justify_content": null,
            "justify_items": null,
            "left": null,
            "margin": null,
            "max_height": null,
            "max_width": null,
            "min_height": null,
            "min_width": null,
            "object_fit": null,
            "object_position": null,
            "order": null,
            "overflow": null,
            "overflow_x": null,
            "overflow_y": null,
            "padding": null,
            "right": null,
            "top": null,
            "visibility": null,
            "width": null
          }
        }
      }
    }
  },
  "nbformat": 4,
  "nbformat_minor": 0
}